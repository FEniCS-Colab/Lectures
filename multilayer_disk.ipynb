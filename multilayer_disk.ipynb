{
  "nbformat": 4,
  "nbformat_minor": 0,
  "metadata": {
    "colab": {
      "name": "multilayer_disk.ipynb",
      "version": "0.3.2",
      "provenance": [],
      "collapsed_sections": [],
      "toc_visible": true,
      "include_colab_link": true
    },
    "kernelspec": {
      "name": "python2",
      "display_name": "Python 2"
    }
  },
  "cells": [
    {
      "cell_type": "markdown",
      "metadata": {
        "id": "view-in-github",
        "colab_type": "text"
      },
      "source": [
        "<a href=\"https://colab.research.google.com/github/van-dang/FEniCS-Colab/blob/master/multilayer_disk.ipynb\" target=\"_parent\"><img src=\"https://colab.research.google.com/assets/colab-badge.svg\" alt=\"Open In Colab\"/></a>"
      ]
    },
    {
      "metadata": {
        "id": "FITCvYLajllR",
        "colab_type": "text"
      },
      "cell_type": "markdown",
      "source": [
        "# Install GMSH"
      ]
    },
    {
      "metadata": {
        "id": "4VXA3BU0klTt",
        "colab_type": "code",
        "outputId": "53a3c2f5-7872-4880-fb10-c08cd6eb9dc2",
        "colab": {
          "base_uri": "https://localhost:8080/",
          "height": 350
        }
      },
      "cell_type": "code",
      "source": [
        "!apt-get install gmsh\n",
        "!gmsh --version\n"
      ],
      "execution_count": 0,
      "outputs": [
        {
          "output_type": "stream",
          "text": [
            "Reading package lists... Done\n",
            "Building dependency tree       \n",
            "Reading state information... Done\n",
            "gmsh is already the newest version (3.0.6+dfsg1-1).\n",
            "0 upgraded, 0 newly installed, 0 to remove and 7 not upgraded.\n",
            "3.0.6\n",
            "[f7680fdd2aa6:07346] *** Process received signal ***\n",
            "[f7680fdd2aa6:07346] Signal: Segmentation fault (11)\n",
            "[f7680fdd2aa6:07346] Signal code: Address not mapped (1)\n",
            "[f7680fdd2aa6:07346] Failing at address: 0x7f46b5bf020d\n",
            "[f7680fdd2aa6:07346] [ 0] /lib/x86_64-linux-gnu/libpthread.so.0(+0x12890)[0x7f46b889a890]\n",
            "[f7680fdd2aa6:07346] [ 1] /lib/x86_64-linux-gnu/libc.so.6(getenv+0xa5)[0x7f46b84d9785]\n",
            "[f7680fdd2aa6:07346] [ 2] /usr/lib/x86_64-linux-gnu/libtcmalloc.so.4(_ZN13TCMallocGuardD1Ev+0x34)[0x7f46b8d44e44]\n",
            "[f7680fdd2aa6:07346] [ 3] /lib/x86_64-linux-gnu/libc.so.6(__cxa_finalize+0xf5)[0x7f46b84da615]\n",
            "[f7680fdd2aa6:07346] [ 4] /usr/lib/x86_64-linux-gnu/libtcmalloc.so.4(+0x13cb3)[0x7f46b8d42cb3]\n",
            "[f7680fdd2aa6:07346] *** End of error message ***\n"
          ],
          "name": "stdout"
        }
      ]
    },
    {
      "metadata": {
        "id": "PN6XqiWFkl78",
        "colab_type": "text"
      },
      "cell_type": "markdown",
      "source": [
        "# Generate a three-layered disk with radii R={5, 7.5, 10, 13}"
      ]
    },
    {
      "metadata": {
        "id": "2c3D_c9xjfbF",
        "colab_type": "code",
        "outputId": "8ffa58ec-29d0-431c-88bb-93affa8883ca",
        "colab": {
          "base_uri": "https://localhost:8080/",
          "height": 1005
        }
      },
      "cell_type": "code",
      "source": [
        "# # # # # # # # Create .geo file for gmsh # # # # # # # #\n",
        "!rm -rf *\n",
        "geo_file = open(\"multi_layer_disk.geo\", \"w\")\n",
        "\n",
        "geo_file.write(\"lc = 1.0;\\n\")\n",
        "geo_file.write(\"R[] = {5, 7.5, 10, 13};\\n\")\n",
        "geo_file.write(\"ncomp = #R[];\\n\")\n",
        "geo_file.write(\"Printf(\\\"Number compartments %g\\\", ncomp);\\n\")\n",
        "geo_file.write(\"jump=0;\\n\")\n",
        "geo_file.write(\"For comp In {0:ncomp-1}\\n\")\n",
        "geo_file.write(\"\tPrintf(\\\"compartment %g, radius %g\\\", comp, R[comp]);\\n\")\n",
        "geo_file.write(\"\tr=R[comp];\\n\")\n",
        "geo_file.write(\"\tPoint(1+jump) = {-r, 0, 0, lc};\\n\")\n",
        "geo_file.write(\"\tPoint(2+jump) = {r, 0, 0, lc};\\n\")\n",
        "geo_file.write(\"\tPoint(3+jump) = {0, 0, 0, lc};\\n\")\n",
        "geo_file.write(\"\tCircle(1+jump) = {1+jump,3+jump,2+jump};\\n\")\n",
        "geo_file.write(\"\tCircle(2+jump) = {2+jump,3+jump,1+jump};\\n\")\n",
        "geo_file.write(\"\tIf (jump==0) \\n\")\n",
        "geo_file.write(\"\t   \tLine Loop(10) = {1, 2};\\n\")\n",
        "geo_file.write(\"\tElse\\n\")\n",
        "geo_file.write(\"\t\tLine Loop(10+jump) = {1+jump, 2+jump, 1+jump-3, 2+jump-3};\\n\")\n",
        "geo_file.write(\"\tEndIf\\n\")\n",
        "geo_file.write(\"\tPlane Surface(20+jump) = {10+jump};\\n\")\n",
        "geo_file.write(\"\tjump=jump+3;\\n\")\n",
        "geo_file.write(\"EndFor\\n\")\n",
        "geo_file.write(\"Mesh 2;\\n\")\n",
        "geo_file.write(\"Coherence Mesh;\\n\")\n",
        "geo_file.write(\"Printf(\\\"Completed the task!\\\");\\n\")\n",
        "geo_file.close()\n",
        "\n",
        "# # # # # # # # # # Run with Gmsh # # # # # # # # # # # #\n",
        "!gmsh -2 multi_layer_disk.geo -o multi_layer_disk.msh\n"
      ],
      "execution_count": 0,
      "outputs": [
        {
          "output_type": "stream",
          "text": [
            "Info    : Running 'gmsh -2 multi_layer_disk.geo -o multi_layer_disk.msh' [Gmsh 3.0.6, 1 node, max. 1 thread]\n",
            "Info    : Started on Sat Dec  1 16:46:03 2018\n",
            "Info    : Reading 'multi_layer_disk.geo'...\n",
            "\u001b[34mNumber compartments 4\u001b[0m\n",
            "\u001b[34mcompartment 0, radius 5\u001b[0m\n",
            "\u001b[34mcompartment 1, radius 7.5\u001b[0m\n",
            "Info    : Starting subloop 1 in Line Loop 13 (are you sure about this?)\n",
            "\u001b[34mcompartment 2, radius 10\u001b[0m\n",
            "Info    : Starting subloop 1 in Line Loop 16 (are you sure about this?)\n",
            "\u001b[34mcompartment 3, radius 13\u001b[0m\n",
            "Info    : Starting subloop 1 in Line Loop 19 (are you sure about this?)\n",
            "Info    : Finalized high order topology of periodic connections\n",
            "Info    : Meshing 1D...\n",
            "Info    : Meshing curve 1 (Circle)\n",
            "Info    : Meshing curve 2 (Circle)\n",
            "Info    : Meshing curve 4 (Circle)\n",
            "Info    : Meshing curve 5 (Circle)\n",
            "Info    : Meshing curve 7 (Circle)\n",
            "Info    : Meshing curve 8 (Circle)\n",
            "Info    : Meshing curve 10 (Circle)\n",
            "Info    : Meshing curve 11 (Circle)\n",
            "Info    : Done meshing 1D (0.001443 s)\n",
            "Info    : Meshing 2D...\n",
            "Info    : Meshing surface 20 (Plane, Delaunay)\n",
            "Info    : Meshing surface 23 (Plane, Delaunay)\n",
            "Info    : Meshing surface 26 (Plane, Delaunay)\n",
            "Info    : Meshing surface 29 (Plane, Delaunay)\n",
            "Info    : Done meshing 2D (0.030079 s)\n",
            "Info    : 769 vertices 1684 elements\n",
            "Info    : Removing duplicate mesh vertices...\n",
            "Info    : Found 4 duplicate vertices \n",
            "Info    : Removed 4 duplicate mesh vertices\n",
            "Info    : Done removing duplicate mesh vertices\n",
            "\u001b[34mCompleted the task!\u001b[0m\n",
            "Info    : Done reading 'multi_layer_disk.geo'\n",
            "Info    : Finalized high order topology of periodic connections\n",
            "Info    : Meshing 2D...\n",
            "Info    : Meshing surface 20 (Plane, Delaunay)\n",
            "Info    : Meshing surface 23 (Plane, Delaunay)\n",
            "Info    : Meshing surface 26 (Plane, Delaunay)\n",
            "Info    : Meshing surface 29 (Plane, Delaunay)\n",
            "Info    : Done meshing 2D (0.029923 s)\n",
            "Info    : 766 vertices 1684 elements\n",
            "Info    : Writing 'multi_layer_disk.msh'...\n",
            "Info    : Done writing 'multi_layer_disk.msh'\n",
            "Info    : Stopped on Sat Dec  1 16:46:03 2018\n",
            "[f7680fdd2aa6:07355] *** Process received signal ***\n",
            "[f7680fdd2aa6:07355] Signal: Segmentation fault (11)\n",
            "[f7680fdd2aa6:07355] Signal code: Address not mapped (1)\n",
            "[f7680fdd2aa6:07355] Failing at address: 0x7f96cef2d20d\n",
            "[f7680fdd2aa6:07355] [ 0] /lib/x86_64-linux-gnu/libpthread.so.0(+0x12890)[0x7f96d1bd7890]\n",
            "[f7680fdd2aa6:07355] [ 1] /lib/x86_64-linux-gnu/libc.so.6(getenv+0xa5)[0x7f96d1816785]\n",
            "[f7680fdd2aa6:07355] [ 2] /usr/lib/x86_64-linux-gnu/libtcmalloc.so.4(_ZN13TCMallocGuardD1Ev+0x34)[0x7f96d2081e44]\n",
            "[f7680fdd2aa6:07355] [ 3] /lib/x86_64-linux-gnu/libc.so.6(__cxa_finalize+0xf5)[0x7f96d1817615]\n",
            "[f7680fdd2aa6:07355] [ 4] /usr/lib/x86_64-linux-gnu/libtcmalloc.so.4(+0x13cb3)[0x7f96d207fcb3]\n",
            "[f7680fdd2aa6:07355] *** End of error message ***\n"
          ],
          "name": "stdout"
        }
      ]
    },
    {
      "metadata": {
        "id": "ZbjcTdYgjRhw",
        "colab_type": "text"
      },
      "cell_type": "markdown",
      "source": [
        "# Download file to a local computer\n",
        "The mesh can be downloaded to use or visualize in a local computer using the following command lines. If the file is not downloaded, please try on tab Files: REFRESH/ Right click on the file / Download."
      ]
    },
    {
      "metadata": {
        "id": "RRbL4sBQhlEn",
        "colab_type": "code",
        "colab": {}
      },
      "cell_type": "code",
      "source": [
        "# Save to your local computer\n",
        "from google.colab import files\n",
        "files.download('multi_layer_disk.msh')\n",
        "\n",
        "# # # # # # # # # # Convert mesh by meshio # # # # # # # # \n",
        "# !pip install -U meshio\n",
        "# !apt-get install python-lxml\n",
        "# !meshio-convert multi_layer_disk.msh multi_layer_disk.vtu\n",
        "\n"
      ],
      "execution_count": 0,
      "outputs": []
    },
    {
      "metadata": {
        "id": "qmaspXmfxjYk",
        "colab_type": "text"
      },
      "cell_type": "markdown",
      "source": [
        "# A visualization\n",
        "\n",
        "![alt text](https://www.csc.kth.se/~vdnguyen/images/multi_layer_disk.png)"
      ]
    }
  ]
}