{
  "nbformat": 4,
  "nbformat_minor": 0,
  "metadata": {
    "colab": {
      "name": "Poisson_Colab.ipynb",
      "version": "0.3.2",
      "provenance": [],
      "collapsed_sections": [
        "vS_YdSbqFOln",
        "9SJXe6I5JUwF",
        "r6GW2fwLE042"
      ],
      "include_colab_link": true
    },
    "kernelspec": {
      "name": "python3",
      "display_name": "Python 3"
    },
    "accelerator": "GPU"
  },
  "cells": [
    {
      "cell_type": "markdown",
      "metadata": {
        "id": "view-in-github",
        "colab_type": "text"
      },
      "source": [
        "<a href=\"https://colab.research.google.com/github/van-dang/FEniCS-Colab/blob/master/Heat2D_Colab.ipynb\" target=\"_parent\"><img src=\"https://colab.research.google.com/assets/colab-badge.svg\" alt=\"Open In Colab\"/></a>"
      ]
    },
    {
      "metadata": {
        "id": "vS_YdSbqFOln",
        "colab_type": "text"
      },
      "cell_type": "markdown",
      "source": [
        "# Problem description"
      ]
    },
    {
      "metadata": {
        "id": "CiQ9r51xKgWh",
        "colab_type": "code",
        "colab": {}
      },
      "cell_type": "code",
      "source": [
        "# This demo adapts an existing code to solve the wave equation\n",
        "# The orignal code is available at\n",
        "# https://fenicsproject.org/qa/8883/wave-propagation-from-a-source-point/"
      ],
      "execution_count": 0,
      "outputs": []
    },
    {
      "metadata": {
        "id": "9SJXe6I5JUwF",
        "colab_type": "text"
      },
      "cell_type": "markdown",
      "source": [
        "# Setting a working environment with FEniCS"
      ]
    },
    {
      "metadata": {
        "id": "4jWzVxURFVLj",
        "colab_type": "code",
        "outputId": "7bd79c09-dc07-482d-fd78-21d82bf6cef6",
        "colab": {
          "base_uri": "https://localhost:8080/",
          "height": 65
        }
      },
      "cell_type": "code",
      "source": [
        "from google.colab import files\n",
        "\n",
        "import platform, sys\n",
        "python_version=platform.python_version()\n",
        "from distutils.version import LooseVersion, StrictVersion\n",
        "\n",
        "if ( LooseVersion(python_version) < LooseVersion(\"3.0.0\")):\n",
        "    print(\"Python3 is needed!\");\n",
        "    print(\"How to fix: Runtime/Change_runtime_type/Python 3\");\n",
        "    sys.exit()\n",
        "    \n",
        "try:\n",
        "    from dolfin import *; from mshr import *\n",
        "except ImportError as e:\n",
        "    !apt-get install -y -qq software-properties-common python-software-properties module-init-tools\n",
        "    !add-apt-repository -y ppa:fenics-packages/fenics\n",
        "    !apt-get update -qq\n",
        "    !apt install -y --no-install-recommends fenics\n",
        "    from dolfin import *; from mshr import *\n",
        "    \n",
        "import matplotlib.pyplot as plt;\n",
        "from IPython.display import clear_output, display; import time; import dolfin.common.plotting as fenicsplot \n",
        "import time\n",
        "\n",
        "import os, sys, shutil\n",
        "\n",
        "dolfin_version = dolfin.__version__\n",
        "print ('dolfin version:', dolfin_version)\n",
        "\n",
        "!rm -rf * # clean up all files\n",
        "# Useful commands\n",
        "# Remove an empty folder      : os.rmdir(\"my_results\")\n",
        "# Remove a folder with files  : shutil.rmtree(\"results\")\n",
        "# Make a folder               : os.mkdir(\"my_results\")\n",
        "# Runtime/Change_runtime_type/Python3"
      ],
      "execution_count": 0,
      "outputs": [
        {
          "output_type": "stream",
          "text": [
            "dolfin version: 2018.1.0\n"
          ],
          "name": "stdout"
        }
      ]
    },
    {
      "metadata": {
        "id": "aiUvz-WE70WC",
        "colab_type": "text"
      },
      "cell_type": "markdown",
      "source": [
        "# A wave solver"
      ]
    },
    {
      "metadata": {
        "id": "5EBeBahjKjbY",
        "colab_type": "code",
        "outputId": "75ab6b94-b1b9-4d5a-8e9f-358f8a134c55",
        "colab": {
          "base_uri": "https://localhost:8080/",
          "height": 232
        }
      },
      "cell_type": "code",
      "source": [
        "def plot_compact(u, t, stepcounter, QQ, pl, ax): # Compact plot utility function\n",
        "  if stepcounter == 0:\n",
        "    pl, ax = plt.subplots(); display(pl); clear_output(); # Plotting setup\n",
        "  if stepcounter % 5 == 0:\n",
        "    uEuclidnorm = project(sqrt(inner(u, u)), QQ); ax.cla(); fig = plt.gcf(); fig.set_size_inches(16, 4)\n",
        "    plt.subplot(1, 2, 1); pp = plot(uEuclidnorm, cmap=\"coolwarm\"); plt.title(\"Solution at t=%f\" % (t)) # Plot norm of velocity\n",
        "    if t == 0.: plt.axis(G); # plt.colorbar(pp, shrink=0.5); \n",
        "    plt.subplot(1, 2, 2);\n",
        "    if t == 0.: plot(QQ.mesh()); plt.title(\"Mesh\") # Plot mesh\n",
        "    plt.tight_layout(); dpl = display(pl, display_id=\"test\");\n",
        "  \n",
        "  return (pl, ax)\n",
        "\n",
        "solver = KrylovSolver(\"gmres\")\n",
        "solver.parameters[\"relative_tolerance\"] = 5e-6\n",
        "solver.parameters[\"maximum_iterations\"] = 1000\n",
        "solver.parameters[\"monitor_convergence\"] = True\n",
        "\n",
        "\n",
        "# Define domain and mesh\n",
        "XMIN, XMAX = -2., 2.; \n",
        "YMIN, YMAX = -2., 2.; \n",
        "G = [XMIN, XMAX, YMIN, YMAX];\n",
        "mresolution = 20;\n",
        "mesh = generate_mesh(Rectangle(Point(G[0], G[2]), Point(G[1], G[3])), mresolution)\n",
        "\n",
        "# Define finite element function space\n",
        "degree = 1;\n",
        "V = FunctionSpace(mesh, \"CG\", degree);\n",
        "\n",
        "# Finite element functions\n",
        "v = TestFunction(V); \n",
        "u = Function(V);\n",
        "\n",
        "# Define boundary conditions\n",
        "def boundary(x, on_boundary):\n",
        "    return on_boundary\n",
        "\n",
        "# Time parameters\n",
        "theta = 1.0 # Implicit Euler\n",
        "k = 0.5; # Time step\n",
        "t, T = 0., 20.; # Start and end time\n",
        "\n",
        "# Exact solution\n",
        "k_coeff = 1\n",
        "ue = Expression(\"exp(-(x[0]*x[0]+x[1]*x[1])/(4*a*t))/(4*pi*a*t)\", a=k_coeff, t=1e-7, domain=mesh, degree=degree+1) \n",
        "u0 = ue;\n",
        "\n",
        "bc = DirichletBC(V, ue, boundary)\n",
        "\n",
        "# Inititalize time stepping\n",
        "pl, ax = None, None; \n",
        "stepcounter = 0; \n",
        "timer0 = time.clock()\n",
        "\n",
        "# Time-stepping loop\n",
        "while t < T: \n",
        "    # Time scheme\n",
        "    um = theta*u + (1.0-theta)*u0 \n",
        "    \n",
        "    # Weak form of the heat equation in residual form\n",
        "    r = (u - u0)/k*v*dx + k_coeff*inner(grad(um), grad(v))*dx \n",
        "    \n",
        "    # Solve the Heat equation (one timestep)\n",
        "    solve(r==0, u, bc)  \n",
        "    \n",
        "    # Plot all quantities (see implementation above)\n",
        "    pl, ax=plot_compact(u, t, stepcounter, V, pl, ax)\n",
        "    \n",
        "    # Shift to next timestep\n",
        "    t += k; u0 = project(u, V); \n",
        "    ue.t = t;\n",
        "    stepcounter += 1 "
      ],
      "execution_count": 1,
      "outputs": [
        {
          "output_type": "error",
          "ename": "NameError",
          "evalue": "ignored",
          "traceback": [
            "\u001b[0;31m---------------------------------------------------------------------------\u001b[0m",
            "\u001b[0;31mNameError\u001b[0m                                 Traceback (most recent call last)",
            "\u001b[0;32m<ipython-input-1-ecaff27a6d56>\u001b[0m in \u001b[0;36m<module>\u001b[0;34m()\u001b[0m\n\u001b[1;32m     12\u001b[0m   \u001b[0;32mreturn\u001b[0m \u001b[0;34m(\u001b[0m\u001b[0mpl\u001b[0m\u001b[0;34m,\u001b[0m \u001b[0max\u001b[0m\u001b[0;34m)\u001b[0m\u001b[0;34m\u001b[0m\u001b[0;34m\u001b[0m\u001b[0m\n\u001b[1;32m     13\u001b[0m \u001b[0;34m\u001b[0m\u001b[0m\n\u001b[0;32m---> 14\u001b[0;31m \u001b[0msolver\u001b[0m \u001b[0;34m=\u001b[0m \u001b[0mKrylovSolver\u001b[0m\u001b[0;34m(\u001b[0m\u001b[0;34m\"gmres\"\u001b[0m\u001b[0;34m)\u001b[0m\u001b[0;34m\u001b[0m\u001b[0;34m\u001b[0m\u001b[0m\n\u001b[0m\u001b[1;32m     15\u001b[0m \u001b[0msolver\u001b[0m\u001b[0;34m.\u001b[0m\u001b[0mparameters\u001b[0m\u001b[0;34m[\u001b[0m\u001b[0;34m\"relative_tolerance\"\u001b[0m\u001b[0;34m]\u001b[0m \u001b[0;34m=\u001b[0m \u001b[0;36m5e-6\u001b[0m\u001b[0;34m\u001b[0m\u001b[0;34m\u001b[0m\u001b[0m\n\u001b[1;32m     16\u001b[0m \u001b[0msolver\u001b[0m\u001b[0;34m.\u001b[0m\u001b[0mparameters\u001b[0m\u001b[0;34m[\u001b[0m\u001b[0;34m\"maximum_iterations\"\u001b[0m\u001b[0;34m]\u001b[0m \u001b[0;34m=\u001b[0m \u001b[0;36m1000\u001b[0m\u001b[0;34m\u001b[0m\u001b[0;34m\u001b[0m\u001b[0m\n",
            "\u001b[0;31mNameError\u001b[0m: name 'KrylovSolver' is not defined"
          ]
        }
      ]
    }
  ]
}