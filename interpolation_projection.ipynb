{
  "nbformat": 4,
  "nbformat_minor": 0,
  "metadata": {
    "colab": {
      "name": "interpolation_projection.ipynb",
      "version": "0.3.2",
      "provenance": [],
      "collapsed_sections": [],
      "include_colab_link": true
    },
    "kernelspec": {
      "name": "python3",
      "display_name": "Python 3"
    }
  },
  "cells": [
    {
      "cell_type": "markdown",
      "metadata": {
        "id": "view-in-github",
        "colab_type": "text"
      },
      "source": [
        "<a href=\"https://colab.research.google.com/github/van-dang/FEniCS-Colab/blob/master/interpolation_projection.ipynb\" target=\"_parent\"><img src=\"https://colab.research.google.com/assets/colab-badge.svg\" alt=\"Open In Colab\"/></a>"
      ]
    },
    {
      "metadata": {
        "id": "AbHNFmgrra1D",
        "colab_type": "text"
      },
      "cell_type": "markdown",
      "source": [
        "# Function approximations: Linear interpolation and L2-projection\n",
        "\n",
        "After this assignment, students are able to\n",
        "\n",
        "*  Distinguish between the interpolation and L2-projection\n",
        "*  Bring the methods into practice\n",
        "\n"
      ]
    },
    {
      "metadata": {
        "id": "QFLbQcXXreTk",
        "colab_type": "code",
        "colab": {}
      },
      "cell_type": "code",
      "source": [
        "# Original source:\n",
        "# Introduction to finite element methods\n",
        "# Hans Petter Langtangen\n",
        "# Link: http://hplgit.github.io/INF5620/doc/pub/main_fem.pdf\n",
        "# http://hplgit.github.io/INF5620/doc/pub/H14/fem/html/._main_fem-solarized003.html\n",
        "\n",
        "def interpolation(f, psi, points):\n",
        "    N = len(psi) - 1\n",
        "    A = sp.zeros(N+1, N+1)\n",
        "    b = sp.zeros(N+1, 1)\n",
        "    x = sp.Symbol('x')\n",
        "    # Turn psi and f into Python functions\n",
        "    psi_vals = [sp.lambdify([x], psi[i]) for i in range(N+1)]\n",
        "    f = sp.lambdify([x], f)\n",
        "    for i in range(N+1):\n",
        "        for j in range(N+1):\n",
        "            A[i,j] = psi_vals[j](points[i])\n",
        "        b[i,0] = f(points[i])\n",
        "    c = A.LUsolve(b)\n",
        "    u=0\n",
        "    for i in range(len(psi)):\n",
        "        u += c[i,0]*psi_vals[i](x)\n",
        "    return u\n",
        "\n",
        "def projection(f, psi, Omega):\n",
        "    N = len(psi) - 1\n",
        "    A = sp.zeros(N+1, N+1)\n",
        "    b = sp.zeros(N+1, 1)\n",
        "    x = sp.Symbol('x')\n",
        "    for i in range(N+1):\n",
        "        for j in range(i, N+1):\n",
        "            A[i,j] = sp.integrate(psi[i]*psi[j],\n",
        "                                  (x, Omega[0], Omega[1]))\n",
        "            A[j,i] = A[i,j]\n",
        "        b[i,0] = sp.integrate(psi[i]*f, (x, Omega[0], Omega[1]))\n",
        "        c = A.LUsolve(b)\n",
        "        u=0\n",
        "    for i in range(len(psi)):\n",
        "        u += c[i,0]*psi[i]\n",
        "    return u\n",
        "\n",
        " "
      ],
      "execution_count": 0,
      "outputs": []
    },
    {
      "metadata": {
        "id": "AOFlYqDpkkH4",
        "colab_type": "code",
        "outputId": "41fb652d-fe91-460b-a4a6-c3ccc01837e8",
        "colab": {
          "base_uri": "https://localhost:8080/",
          "height": 364
        }
      },
      "cell_type": "code",
      "source": [
        "import sympy as sp\n",
        "import numpy as np\n",
        "import matplotlib.pyplot as plt\n",
        "\n",
        "\n",
        "a, b = 1, 2\n",
        "\n",
        "x = sp.Symbol('x')\n",
        "f = 10*(x-1)**2-1\n",
        "psi=[1, x]\n",
        "points = [a, b]\n",
        "\n",
        "\n",
        "\n",
        "up = projection(f, psi, Omega=[a, b])\n",
        "\n",
        "ui = interpolation(f, psi, points)\n",
        "\n",
        "lam_f = sp.lambdify(x, f, modules=['numpy'])\n",
        "lam_ui = sp.lambdify(x, ui, modules=['numpy'])\n",
        "lam_up = sp.lambdify(x, up, modules=['numpy'])\n",
        "\n",
        "\n",
        "x_vals = np.linspace(0, 3, 10)\n",
        "f_vals = lam_f(x_vals)\n",
        "ui_vals = lam_ui(x_vals)\n",
        "up_vals = lam_up(x_vals)\n",
        "\n",
        "plt.figure(1)\n",
        "plt.plot(x_vals, f_vals,'-',x_vals, ui_vals,'-.', x_vals, up_vals,'--')\n",
        "plt.gca().legend(('Exact','Interpolation','L2-projection'))\n"
      ],
      "execution_count": 4,
      "outputs": [
        {
          "output_type": "execute_result",
          "data": {
            "text/plain": [
              "<matplotlib.legend.Legend at 0x7f253fb73c50>"
            ]
          },
          "metadata": {
            "tags": []
          },
          "execution_count": 4
        },
        {
          "output_type": "display_data",
          "data": {
            "image/png": "[encoded data removed]",
            "text/plain": [
              "<Figure size 576x396 with 1 Axes>"
            ]
          },
          "metadata": {
            "tags": []
          }
        }
      ]
    },
    {
      "metadata": {
        "id": "Xel9LoGGvP0I",
        "colab_type": "text"
      },
      "cell_type": "markdown",
      "source": [
        "Questions\n",
        "\n",
        "\n",
        "1.   The L2 error of the approximation $u_h$ compared to the exact function $f$ is computed by \n",
        "$$||u_h-f||_{L_2}=\\Biggl(\\int_a^b (u_h-f)^2\\,dx\\Biggl)^{1/2}$$\n",
        "Since we obtain analytical expressions of ui, up and f, it is completely possible to compute the L2 error using sp.integrate(). What is you conclusion about the accuarcy of ui and up in L2?\n",
        "2.   Manipulate the basis functions psi and the interpolation points and given an example where the L2-error vanishes. Explain!\n",
        "\n"
      ]
    }
  ]
}