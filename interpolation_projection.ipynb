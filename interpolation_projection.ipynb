{
  "nbformat": 4,
  "nbformat_minor": 0,
  "metadata": {
    "colab": {
      "name": "interpolation_projection.ipynb",
      "version": "0.3.2",
      "provenance": [],
      "collapsed_sections": [],
      "include_colab_link": true
    },
    "kernelspec": {
      "name": "python3",
      "display_name": "Python 3"
    }
  },
  "cells": [
    {
      "cell_type": "markdown",
      "metadata": {
        "id": "view-in-github",
        "colab_type": "text"
      },
      "source": [
        "<a href=\"https://colab.research.google.com/github/FEniCS-Colab/Lectures/blob/Khieu/interpolation_projection.ipynb\" target=\"_parent\"><img src=\"https://colab.research.google.com/assets/colab-badge.svg\" alt=\"Open In Colab\"/></a>"
      ]
    },
    {
      "metadata": {
        "id": "AbHNFmgrra1D",
        "colab_type": "text"
      },
      "cell_type": "markdown",
      "source": [
        "# Function approximations\n",
        "\n",
        "After this assignment, students are able to\n",
        "\n",
        "*  Know some concepts: function spaces, basis funcitions, L2 norm.\n",
        "*  Distinguish between the interpolation and L2-projection\n",
        "*  Bring the methods into practice"
      ]
    },
    {
      "metadata": {
        "id": "iNH0fisu_QbV",
        "colab_type": "text"
      },
      "cell_type": "markdown",
      "source": [
        "# Basis functions\n",
        "Let $V$ be a function space equiped with the L2 inner product\n",
        "$$(f,g)=\\int_{\\Omega} f g\\, dx$$ \n",
        "which generates the norm\n",
        "\n",
        "$$||f||_{L2}=\\sqrt{(f,f)}=\\Biggl(\\int_{\\Omega} f^2\\, dx\\Biggl)^{1/2}$$ \n",
        "\n",
        "and $S$ be a sub-space of $V$ spanned by a set of basis functions $\\{\\varphi_i\\}_{i=0..N-1}$\n",
        "$$S=\\text{span}\\{\\varphi_0, \\varphi_1, ..., \\varphi_{N-1}\\}$$\n",
        "Any function $u\\in S$ can be written as a linear combination of the basis functions\n",
        "$$u=\\sum_{j=0}^{N-1}c_j\\varphi_j$$\n",
        "\n",
        "\n",
        "For example, a linear function space $S=\\text{span}\\{1, x\\}$ and any function $u\\in S$ has the form $u=c_0+c_1x$. Here $\\varphi_0=1, \\varphi_1=x$.\n"
      ]
    },
    {
      "metadata": {
        "id": "AgMOiEef-86O",
        "colab_type": "text"
      },
      "cell_type": "markdown",
      "source": [
        "# Interpolation\n",
        "\n",
        "Give a function $𝑓(x)\\in𝑉$, find an approximation $𝑢(x)\\in𝑆\\subset𝑉$ such that $𝑢(x_i)=𝑓(𝑥_i)$ at $𝑁$ selected points $𝑥_𝑖$. \n",
        "\n",
        "Assume $𝑆=\\text{span}\\{𝜑_0, 𝜑_1,…, 𝜑_{N-1}\\}$, then $$u=\\sum_{j=0}^{N-1}c_j\\varphi_j$$\n",
        "The contrainst $𝑢(x_j)=𝑓(𝑥_𝑗)$ implies that\n",
        "\n",
        "$$\\sum_{j=0}^{N-1}c_j\\varphi_j (x_i)=f(x_i)$$\n",
        "\n",
        "\n",
        "Matrix form $$A U = F$$\n",
        "where $A_{ij}=\\varphi_j (x_i),\\quad U_i=c_i, \\quad F_i=f(x_i)$\n",
        "\n",
        "We need to solve this linear system to obtain the coefficients $c_i$.\n",
        "\n",
        "\n",
        "\n",
        "**For example**: Find a linear interpolation of $𝑓(x)=10(𝑥−1)^2−1$ with two interpolation points $𝑥_0=1,  𝑥_1=2$.\n",
        "\n",
        "*Solution*\n",
        "\n",
        "* Linear function space $𝑆=\\text{span}\\{1,𝑥\\}$\n",
        "\n",
        "* Any $u\\in S$ has the form $𝑢=𝑐_0+𝑐_1𝑥$\n",
        "\n",
        "* $u(x_0)=f(x_0)$ gives $𝑐_0+𝑐_1=−1$ (1)\n",
        "\n",
        "* $u(x_1)=f(x_1)$ gives $𝑐_0+2𝑐_1=9$ (2)\n",
        "\n",
        "Solve the linear system $\\{1,2\\}$ we obtain $𝑐_0=−11,  𝑐_1=10$.  So, $𝑢=−11+10 𝑥$.\n",
        "\n",
        "**Exercise**\n",
        "1.   Understand the following code and verify the example above.\n",
        "2.   Try to find a quadratic interpolation $u$ of $f$ with three interpolation points $[1, 1.5, 2]$ and make a comparison. \n"
      ]
    },
    {
      "metadata": {
        "id": "zSreHpbM_ALF",
        "colab_type": "code",
        "outputId": "1df9b7a6-e37a-4df0-bdff-0778c33aa6bd",
        "colab": {
          "base_uri": "https://localhost:8080/",
          "height": 51
        }
      },
      "cell_type": "code",
      "source": [
        "# Original source:\n",
        "# Introduction to finite element methods\n",
        "# Hans Petter Langtangen\n",
        "# Link: http://hplgit.github.io/INF5620/doc/pub/main_fem.pdf\n",
        "# http://hplgit.github.io/INF5620/doc/pub/H14/fem/html/._main_fem-solarized003.html\n",
        "\n",
        "def interpolation(f, psi, points):\n",
        "    N = len(psi) - 1\n",
        "    A = sp.zeros(N+1, N+1)\n",
        "    b = sp.zeros(N+1, 1)\n",
        "    x = sp.Symbol('x')\n",
        "    # Turn psi and f into Python functions\n",
        "    psi_vals = [sp.lambdify([x], psi[i]) for i in range(N+1)]\n",
        "    f = sp.lambdify([x], f)\n",
        "    for i in range(N+1):\n",
        "        for j in range(N+1):\n",
        "            A[i,j] = psi_vals[j](points[i])\n",
        "        b[i,0] = f(points[i])\n",
        "    c = A.LUsolve(b)\n",
        "    u=0\n",
        "    for i in range(len(psi)):\n",
        "        u += c[i,0]*psi_vals[i](x)\n",
        "    return u \n",
        "\n",
        "  \n",
        "import sympy as sp\n",
        "import numpy as np\n",
        "import matplotlib.pyplot as plt\n",
        "\n",
        "  \n",
        "a, b = 1, 2\n",
        "\n",
        "x = sp.Symbol('x')\n",
        "f = 10*(x-1)**2-1\n",
        "psi=[1, x]\n",
        "points = [a, b]\n",
        "\n",
        "ui = interpolation(f, psi, points)\n",
        "\n",
        "print(\"Exact: \",f)\n",
        "print(\"Interpolation: \",ui)\n"
      ],
      "execution_count": 0,
      "outputs": [
        {
          "output_type": "stream",
          "text": [
            "Exact:  10*(x - 1)**2 - 1\n",
            "Interpolation:  10*x - 11\n"
          ],
          "name": "stdout"
        }
      ]
    },
    {
      "metadata": {
        "id": "KnoSIWP5_AyN",
        "colab_type": "text"
      },
      "cell_type": "markdown",
      "source": [
        "# L2-projection\n",
        "\n",
        "Give a function $𝑓(x)\\in𝑉$, find an approximation $𝑢(x)\\in 𝑆\\subset𝑉$ such that the distance the between two functions $e=𝑢(x)-𝑓(𝑥)$ is minimized in $L_2-$norm.\n",
        "\n",
        "It was shown to be equivalent to: Find $u(x)\\in S$ such that \n",
        "$$(e, 𝑣)=0, \\quad \\forall v\\in S\\quad (1)$$\n",
        "\n",
        "Assume $𝑆=\\text{span}\\{𝜑_0, 𝜑_1,…, 𝜑_{N-1}\\}$, then $$v=\\sum_{i=0}^{N-1}v_i\\varphi_i$$\n",
        "\n",
        "\n",
        "Eq. (1) becomes $$\\sum_{i=0}^{N-1} (e, c_i\\varphi_i)=0, \\quad \\forall c_i\\in R$$\n",
        "\n",
        "that requires\n",
        "\n",
        "$$ (e, \\varphi_i)=0, \\quad i=0,...,N-1$$\n",
        "or \n",
        "$$ (u, \\varphi_i)=(f, \\varphi_i)$$\n",
        "With $u=\\sum_{j=0}^{N-1}c_j\\varphi_j$, we have \n",
        "$$\\sum_{j=0}^{N-1}c_j(\\varphi_j,\\varphi_i)=(f,\\varphi_i)$$\n",
        "\n",
        "Matrix form $$A U = F$$\n",
        "where $A_{ij}=(\\varphi_j, \\varphi_i),\\quad U_i=c_i, \\quad F_i=(f,\\varphi_i)$\n",
        "\n",
        "We need to solve this linear system to obtain the coefficients $c_i$.\n",
        "\n",
        "\n",
        "**For example**: Find an L2 projection of $𝑓(x)=10(𝑥−1)^2−1$ onto a linear function space $P_1([1,2])$.\n",
        "\n",
        "*Solution*\n",
        "\n",
        "* Linear function space $𝑆=\\text{span}\\{1,𝑥\\}$\n",
        "\n",
        "* $A_{00}=\\int_1^2\\varphi_0\\varphi_0\\, dx=\\int_1^2 (1) (1)\\, dx=1$\n",
        "\n",
        "* $A_{01}=\\int_1^2\\varphi_1\\varphi_0\\, dx=\\int_1^2 (x) (1)\\, dx=\\frac{3}{2}$\n",
        "\n",
        "* $A_{10}=\\int_1^2\\varphi_0\\varphi_1\\, dx=\\int_1^2 (1) (x)\\, dx=\\frac{3}{2}$\n",
        "\n",
        "* $A_{11}=\\int_1^2\\varphi_1\\varphi_1\\, dx=\\int_1^2 (x) (x)\\, dx=\\frac{7}{3}$\n",
        "\n",
        "* $F_0=\\int_1^2 f \\varphi_0\\, dx=\\int_1^2 \\bigl(10(x-1)^2-1\\bigl)(1) \\, dx=\\frac{7}{3}$\n",
        "\n",
        "* $F_1=\\int_1^2 f \\varphi_1\\, dx=\\int_1^2 \\bigl(10(x-1)^2-1\\bigl)(x) \\, dx=\\frac{13}{3}$\n",
        "\n",
        "Solve the linear system we obtain $𝑐_0=\\frac{-38}{3},  𝑐_1=10$.  So, $𝑢=\\frac{-38}{3}+10 𝑥$.\n",
        "\n",
        "**Exercise**\n",
        "1.   Understand the following code and verify the example above.\n",
        "2.   Try to find a projection $u$ of $f$ onto a quadratic function space defined in $[1, 2]$ and make a comparison. \n",
        "\n"
      ]
    },
    {
      "metadata": {
        "id": "cPe7m51uE9Cq",
        "colab_type": "code",
        "outputId": "7cf76cc9-0e4f-4e93-c780-32f916143d67",
        "colab": {
          "base_uri": "https://localhost:8080/",
          "height": 51
        }
      },
      "cell_type": "code",
      "source": [
        "def projection(f, psi, Omega):\n",
        "    N = len(psi) - 1\n",
        "    A = sp.zeros(N+1, N+1)\n",
        "    b = sp.zeros(N+1, 1)\n",
        "    x = sp.Symbol('x')\n",
        "    for i in range(N+1):\n",
        "        for j in range(i, N+1):\n",
        "            A[i,j] = sp.integrate(psi[i]*psi[j],\n",
        "                                  (x, Omega[0], Omega[1]))\n",
        "            A[j,i] = A[i,j]\n",
        "        b[i,0] = sp.integrate(psi[i]*f, (x, Omega[0], Omega[1]))\n",
        "        c = A.LUsolve(b)\n",
        "        u=0\n",
        "    for i in range(len(psi)):\n",
        "        u += c[i,0]*psi[i]\n",
        "    return u\n",
        "  \n",
        "import sympy as sp\n",
        "import numpy as np\n",
        "import matplotlib.pyplot as plt\n",
        "\n",
        "  \n",
        "a, b = 1, 2\n",
        "\n",
        "x = sp.Symbol('x')\n",
        "f = 10*(x-1)**2-1\n",
        "psi=[1, x]\n",
        "points = [a, b]\n",
        "\n",
        "ui = projection(f, psi, points)\n",
        "\n",
        "print(\"Exact: \",f)\n",
        "print(\"Interpolation: \",ui)\n",
        "\n"
      ],
      "execution_count": 0,
      "outputs": [
        {
          "output_type": "stream",
          "text": [
            "Exact:  10*(x - 1)**2 - 1\n",
            "Interpolation:  10*x - 38/3\n"
          ],
          "name": "stdout"
        }
      ]
    },
    {
      "metadata": {
        "id": "r9Ywdw1vR7VA",
        "colab_type": "text"
      },
      "cell_type": "markdown",
      "source": [
        "# A comparison\n",
        "The code below does a comparison between the interpolation and L2 projection.\n",
        "1.   Since we obtain analytical expressions of ui, up and f, it is completely possible to compute the L2 error using sp.integrate(). What is your conclusion about the accuarcy of ui and up in L2 norm?\n",
        "2.   Manipulate the basis functions psi and the interpolation points and give an example where the L2-error vanishes. Explain!\n",
        "\n",
        "\n"
      ]
    },
    {
      "metadata": {
        "id": "AOFlYqDpkkH4",
        "colab_type": "code",
        "outputId": "28505caa-c38a-4784-8206-0458883d1010",
        "colab": {
          "base_uri": "https://localhost:8080/",
          "height": 364
        }
      },
      "cell_type": "code",
      "source": [
        "import sympy as sp\n",
        "import numpy as np\n",
        "import matplotlib.pyplot as plt\n",
        "\n",
        "\n",
        "a, b = 1, 2\n",
        "\n",
        "x = sp.Symbol('x')\n",
        "f = 10*(x-1)**2-1\n",
        "psi=[1, x]\n",
        "points = [a, b]\n",
        "\n",
        "\n",
        "\n",
        "up = projection(f, psi, Omega=[a, b])\n",
        "ui = interpolation(f, psi, points)\n",
        "\n",
        "lam_f = sp.lambdify(x, f, modules=['numpy'])\n",
        "lam_ui = sp.lambdify(x, ui, modules=['numpy'])\n",
        "lam_up = sp.lambdify(x, up, modules=['numpy'])\n",
        "\n",
        "\n",
        "x_vals = np.linspace(0, 3, 10)\n",
        "f_vals = lam_f(x_vals)\n",
        "ui_vals = lam_ui(x_vals)\n",
        "up_vals = lam_up(x_vals)\n",
        "\n",
        "plt.figure(1)\n",
        "plt.plot(x_vals, f_vals,'-',x_vals, ui_vals,'-.', x_vals, up_vals,'--')\n",
        "plt.gca().legend(('Exact','Interpolation','L2-projection'))\n"
      ],
      "execution_count": 0,
      "outputs": [
        {
          "output_type": "execute_result",
          "data": {
            "text/plain": [
              "<matplotlib.legend.Legend at 0x7f91e0e9b9b0>"
            ]
          },
          "metadata": {
            "tags": []
          },
          "execution_count": 11
        },
        {
          "output_type": "display_data",
          "data": {
            "image/png": "[encoded data removed]",
            "text/plain": [
              "<Figure size 576x396 with 1 Axes>"
            ]
          },
          "metadata": {
            "tags": []
          }
        }
      ]
    }
  ]
}