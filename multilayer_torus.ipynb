{
  "nbformat": 4,
  "nbformat_minor": 0,
  "metadata": {
    "colab": {
      "name": "multilayer_torus.ipynb",
      "version": "0.3.2",
      "provenance": [],
      "collapsed_sections": [],
      "toc_visible": true,
      "include_colab_link": true
    },
    "kernelspec": {
      "name": "python2",
      "display_name": "Python 2"
    }
  },
  "cells": [
    {
      "cell_type": "markdown",
      "metadata": {
        "id": "view-in-github",
        "colab_type": "text"
      },
      "source": [
        "<a href=\"https://colab.research.google.com/github/van-dang/FEniCS-Colab/blob/master/multilayer_torus.ipynb\" target=\"_parent\"><img src=\"https://colab.research.google.com/assets/colab-badge.svg\" alt=\"Open In Colab\"/></a>"
      ]
    },
    {
      "metadata": {
        "id": "ZI0_hESMDOqf",
        "colab_type": "code",
        "outputId": "abe1eea8-42c5-4bb9-e364-27e376f6f38b",
        "colab": {
          "base_uri": "https://localhost:8080/",
          "height": 525
        }
      },
      "cell_type": "code",
      "source": [
        "# # # # # # # # Create .geo file for gmsh # # # # # # # #\n",
        "\n",
        "R=[5, 7.5, 10.];\n",
        "\n",
        "geo_file = open(\"multi_layer_torus.geo\", \"w\")\n",
        "\n",
        "geo_file.write(\"i = 0;\\n\")\n",
        "geo_file.write(\"N = 6;\\n\")\n",
        "geo_file.write(\"lc = 2.0;\\n\")\n",
        "\n",
        "geo_file.write(\"L = 20.0;\\n\")\n",
        "\n",
        "geo_file.write(\"xc[]={0,-L,0};\\n\")\n",
        "\n",
        "geo_file.write(\"Point(1) = {xc[0], xc[1], xc[2], \tlc};\\n\")\n",
        "geo_file.write(\"R[] = {\");\n",
        "for ir in range(0,len(R)-1):\n",
        "    geo_file.write(str(R[ir])+\",\")\n",
        "geo_file.write(str(R[len(R)-1])+\"};\\n\")\n",
        "geo_file.write(\"ncomp = #R[];\\n\")\n",
        "geo_file.write(\"nlayers = 20;\\n\")\n",
        "\n",
        "geo_file.write(\"For comp In {0:(ncomp-1)}\\n\")\n",
        "geo_file.write(\"  r = R[comp];\\n\")\n",
        "geo_file.write(\"  Point(2+i) = {xc[0], r+xc[1], xc[2], \tlc};\\n\")\n",
        "geo_file.write(\"  Point(3+i) = {xc[0], xc[1], r+xc[2], \tlc};\\n\")\n",
        "geo_file.write(\"  Point(4+i) = {xc[0], xc[1], -r+xc[2], \tlc};\\n\")\n",
        "geo_file.write(\"  Point(5+i) = {xc[0], -r+xc[1], xc[2], \tlc};\\n\")\n",
        "\n",
        "geo_file.write(\"  Circle(1+i) = {2+i, 1, 4+i};\\n\")\n",
        "geo_file.write(\"  Circle(2+i) = {4+i, 1, 5+i};\\n\")\n",
        "geo_file.write(\"  Circle(3+i) = {5+i, 1, 3+i};\\n\")\n",
        "geo_file.write(\"  Circle(4+i) = {3+i, 1, 2+i};\\n\")\n",
        "geo_file.write(\"  Line Loop(1+i) = {1+i, 2+i, 3+i, 4+i};\\n\")\n",
        "geo_file.write(\"  i += N;\\n\")\n",
        "geo_file.write(\"EndFor\\n\")\n",
        "\n",
        "geo_file.write(\"Plane Surface(1) = {1};\")\n",
        "geo_file.write(\"out[] = Extrude { { 0,0,1 }, { 0,0,0 }, 2*Pi/3 } { Surface{1}; Layers{nlayers}; };\\n\")\n",
        "geo_file.write(\"out[] = Extrude { { 0,0,1 }, { 0,0,0 }, 2*Pi/3 } { Surface{out[0]}; Layers{nlayers}; };\\n\")\n",
        "geo_file.write(\"out[] = Extrude { { 0,0,1 }, { 0,0,0 }, 2*Pi/3 } { Surface{out[0]}; Layers{nlayers}; };\\n\")\n",
        "\n",
        "geo_file.write(\"i = 0;\\n\")\n",
        "geo_file.write(\"For r In {1:(ncomp-1)}\\n\")\n",
        "geo_file.write(\"  Plane Surface(2+i) = {1+i*N, 1+(i+1)*N};\\n\")\n",
        "geo_file.write(\"  out[] = Extrude { { 0,0,1 }, { 0,0,0 }, 2*Pi/3 } { Surface{2+i}; Layers{nlayers}; };\\n\")\n",
        "geo_file.write(\"  out[] = Extrude { { 0,0,1 }, { 0,0,0 }, 2*Pi/3 } { Surface{out[0]}; Layers{nlayers}; };\\n\")\n",
        "geo_file.write(\"  out[] = Extrude { { 0,0,1 }, { 0,0,0 }, 2*Pi/3 } { Surface{out[0]}; Layers{nlayers}; };\\n\")\n",
        "geo_file.write(\"  i += 1;\\n\")\n",
        "geo_file.write(\"EndFor\\n\")\n",
        "\n",
        "geo_file.write(\"Mesh 3;\\n\")\n",
        "geo_file.write(\"Coherence Mesh;\\n\")\n",
        "\n",
        "geo_file.close()\n",
        "\n",
        "\n",
        "# # # # # # # # # # Run with Gmsh # # # # # # # # # # # #\n",
        "!apt-get install gmsh\n",
        "!gmsh --version\n",
        "!gmsh -v 0 -3 multi_layer_torus.geo -o multi_layer_torus.msh\n",
        "\n",
        "# Save to your local computer\n",
        "from google.colab import files\n",
        "files.download('multi_layer_torus.msh')\n",
        "\n",
        "# # # # # # # # # # Convert mesh by meshio # # # # # # # # \n",
        "# !pip install -U meshio\n",
        "# !apt-get install python-lxml\n",
        "# !meshio-convert multi_layer_torus.msh multi_layer_torus.vtu\n"
      ],
      "execution_count": 2,
      "outputs": [
        {
          "output_type": "stream",
          "text": [
            "Reading package lists... Done\n",
            "Building dependency tree       \n",
            "Reading state information... Done\n",
            "gmsh is already the newest version (3.0.6+dfsg1-1).\n",
            "0 upgraded, 0 newly installed, 0 to remove and 7 not upgraded.\n",
            "3.0.6\n",
            "[f7680fdd2aa6:07893] *** Process received signal ***\n",
            "[f7680fdd2aa6:07893] Signal: Segmentation fault (11)\n",
            "[f7680fdd2aa6:07893] Signal code: Address not mapped (1)\n",
            "[f7680fdd2aa6:07893] Failing at address: 0x7f79136c220d\n",
            "[f7680fdd2aa6:07893] [ 0] /lib/x86_64-linux-gnu/libpthread.so.0(+0x12890)[0x7f791636c890]\n",
            "[f7680fdd2aa6:07893] [ 1] /lib/x86_64-linux-gnu/libc.so.6(getenv+0xa5)[0x7f7915fab785]\n",
            "[f7680fdd2aa6:07893] [ 2] /usr/lib/x86_64-linux-gnu/libtcmalloc.so.4(_ZN13TCMallocGuardD1Ev+0x34)[0x7f7916816e44]\n",
            "[f7680fdd2aa6:07893] [ 3] /lib/x86_64-linux-gnu/libc.so.6(__cxa_finalize+0xf5)[0x7f7915fac615]\n",
            "[f7680fdd2aa6:07893] [ 4] /usr/lib/x86_64-linux-gnu/libtcmalloc.so.4(+0x13cb3)[0x7f7916814cb3]\n",
            "[f7680fdd2aa6:07893] *** End of error message ***\n",
            "[f7680fdd2aa6:07901] *** Process received signal ***\n",
            "[f7680fdd2aa6:07901] Signal: Segmentation fault (11)\n",
            "[f7680fdd2aa6:07901] Signal code: Address not mapped (1)\n",
            "[f7680fdd2aa6:07901] Failing at address: 0x7f83ac1a820d\n",
            "[f7680fdd2aa6:07901] [ 0] /lib/x86_64-linux-gnu/libpthread.so.0(+0x12890)[0x7f83aee52890]\n",
            "[f7680fdd2aa6:07901] [ 1] /lib/x86_64-linux-gnu/libc.so.6(getenv+0xa5)[0x7f83aea91785]\n",
            "[f7680fdd2aa6:07901] [ 2] /usr/lib/x86_64-linux-gnu/libtcmalloc.so.4(_ZN13TCMallocGuardD1Ev+0x34)[0x7f83af2fce44]\n",
            "[f7680fdd2aa6:07901] [ 3] /lib/x86_64-linux-gnu/libc.so.6(__cxa_finalize+0xf5)[0x7f83aea92615]\n",
            "[f7680fdd2aa6:07901] [ 4] /usr/lib/x86_64-linux-gnu/libtcmalloc.so.4(+0x13cb3)[0x7f83af2facb3]\n",
            "[f7680fdd2aa6:07901] *** End of error message ***\n"
          ],
          "name": "stdout"
        }
      ]
    },
    {
      "metadata": {
        "id": "6J7LWBLY0vFU",
        "colab_type": "text"
      },
      "cell_type": "markdown",
      "source": [
        "# Visualization\n",
        "\n",
        "![alt text](https://www.csc.kth.se/~vdnguyen/images/multi_layer_torus.png)"
      ]
    }
  ]
}