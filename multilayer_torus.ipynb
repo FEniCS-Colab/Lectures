{
  "nbformat": 4,
  "nbformat_minor": 0,
  "metadata": {
    "colab": {
      "name": "multilayer_torus.ipynb",
      "version": "0.3.2",
      "provenance": [],
      "collapsed_sections": [],
      "toc_visible": true,
      "include_colab_link": true
    },
    "kernelspec": {
      "name": "python2",
      "display_name": "Python 2"
    }
  },
  "cells": [
    {
      "cell_type": "markdown",
      "metadata": {
        "id": "view-in-github",
        "colab_type": "text"
      },
      "source": [
        "<a href=\"https://colab.research.google.com/github/van-dang/FEniCS-Colab/blob/master/multilayer_torus.ipynb\" target=\"_parent\"><img src=\"https://colab.research.google.com/assets/colab-badge.svg\" alt=\"Open In Colab\"/></a>"
      ]
    },
    {
      "metadata": {
        "id": "ZI0_hESMDOqf",
        "colab_type": "code",
        "outputId": "ac824b67-251e-4a87-bd21-52358dc37dbf",
        "colab": {
          "base_uri": "https://localhost:8080/",
          "height": 340
        }
      },
      "cell_type": "code",
      "source": [
        "# # # # # # # # Create .geo file for gmsh # # # # # # # #\n",
        "\n",
        "R=[5, 7.5, 10.];\n",
        "\n",
        "geo_file = open(\"multi_layer_torus.geo\", \"w\")\n",
        "\n",
        "geo_file.write(\"i = 0;\\n\")\n",
        "geo_file.write(\"N = 6;\\n\")\n",
        "geo_file.write(\"lc = 2.0;\\n\")\n",
        "\n",
        "geo_file.write(\"L = 20.0;\\n\")\n",
        "\n",
        "geo_file.write(\"xc[]={0,-L,0};\\n\")\n",
        "\n",
        "geo_file.write(\"Point(1) = {xc[0], xc[1], xc[2], \tlc};\\n\")\n",
        "geo_file.write(\"R[] = {\");\n",
        "for ir in range(0,len(R)-1):\n",
        "    geo_file.write(str(R[ir])+\",\")\n",
        "geo_file.write(str(R[len(R)-1])+\"};\\n\")\n",
        "geo_file.write(\"ncomp = #R[];\\n\")\n",
        "geo_file.write(\"nlayers = 20;\\n\")\n",
        "\n",
        "geo_file.write(\"For comp In {0:(ncomp-1)}\\n\")\n",
        "geo_file.write(\"  r = R[comp];\\n\")\n",
        "geo_file.write(\"  Point(2+i) = {xc[0], r+xc[1], xc[2], \tlc};\\n\")\n",
        "geo_file.write(\"  Point(3+i) = {xc[0], xc[1], r+xc[2], \tlc};\\n\")\n",
        "geo_file.write(\"  Point(4+i) = {xc[0], xc[1], -r+xc[2], \tlc};\\n\")\n",
        "geo_file.write(\"  Point(5+i) = {xc[0], -r+xc[1], xc[2], \tlc};\\n\")\n",
        "\n",
        "geo_file.write(\"  Circle(1+i) = {2+i, 1, 4+i};\\n\")\n",
        "geo_file.write(\"  Circle(2+i) = {4+i, 1, 5+i};\\n\")\n",
        "geo_file.write(\"  Circle(3+i) = {5+i, 1, 3+i};\\n\")\n",
        "geo_file.write(\"  Circle(4+i) = {3+i, 1, 2+i};\\n\")\n",
        "geo_file.write(\"  Line Loop(1+i) = {1+i, 2+i, 3+i, 4+i};\\n\")\n",
        "geo_file.write(\"  i += N;\\n\")\n",
        "geo_file.write(\"EndFor\\n\")\n",
        "\n",
        "geo_file.write(\"Plane Surface(1) = {1};\")\n",
        "geo_file.write(\"out[] = Extrude { { 0,0,1 }, { 0,0,0 }, 2*Pi/3 } { Surface{1}; Layers{nlayers}; };\\n\")\n",
        "geo_file.write(\"out[] = Extrude { { 0,0,1 }, { 0,0,0 }, 2*Pi/3 } { Surface{out[0]}; Layers{nlayers}; };\\n\")\n",
        "geo_file.write(\"out[] = Extrude { { 0,0,1 }, { 0,0,0 }, 2*Pi/3 } { Surface{out[0]}; Layers{nlayers}; };\\n\")\n",
        "\n",
        "geo_file.write(\"i = 0;\\n\")\n",
        "geo_file.write(\"For r In {1:(ncomp-1)}\\n\")\n",
        "geo_file.write(\"  Plane Surface(2+i) = {1+i*N, 1+(i+1)*N};\\n\")\n",
        "geo_file.write(\"  out[] = Extrude { { 0,0,1 }, { 0,0,0 }, 2*Pi/3 } { Surface{2+i}; Layers{nlayers}; };\\n\")\n",
        "geo_file.write(\"  out[] = Extrude { { 0,0,1 }, { 0,0,0 }, 2*Pi/3 } { Surface{out[0]}; Layers{nlayers}; };\\n\")\n",
        "geo_file.write(\"  out[] = Extrude { { 0,0,1 }, { 0,0,0 }, 2*Pi/3 } { Surface{out[0]}; Layers{nlayers}; };\\n\")\n",
        "geo_file.write(\"  i += 1;\\n\")\n",
        "geo_file.write(\"EndFor\\n\")\n",
        "\n",
        "geo_file.write(\"Mesh 3;\\n\")\n",
        "geo_file.write(\"Coherence Mesh;\\n\")\n",
        "\n",
        "geo_file.close()\n",
        "\n",
        "\n",
        "# # # # # # # # # # Run with Gmsh # # # # # # # # # # # #\n",
        "!apt-get install gmsh\n",
        "!gmsh --version\n",
        "!gmsh -3 multi_layer_torus.geo -o multi_layer_torus.msh\n",
        "\n",
        "# Save to your local computer\n",
        "from google.colab import files\n",
        "files.download('multi_layer_torus.msh')\n",
        "\n",
        "# # # # # # # # # # Convert mesh by meshio # # # # # # # # \n",
        "# !pip install -U meshio\n",
        "# !apt-get install python-lxml\n",
        "# !meshio-convert multi_layer_torus.msh multi_layer_torus.vtu\n"
      ],
      "execution_count": 0,
      "outputs": [
        {
          "output_type": "stream",
          "text": [
            "Reading package lists... Done\n",
            "Building dependency tree       \n",
            "Reading state information... Done\n",
            "gmsh is already the newest version (3.0.6+dfsg1-1).\n",
            "0 upgraded, 0 newly installed, 0 to remove and 7 not upgraded.\n",
            "3.0.6\n",
            "[f7680fdd2aa6:07869] *** Process received signal ***\n",
            "[f7680fdd2aa6:07869] Signal: Segmentation fault (11)\n",
            "[f7680fdd2aa6:07869] Signal code: Address not mapped (1)\n",
            "[f7680fdd2aa6:07869] Failing at address: 0x7fa1337e820d\n",
            "[f7680fdd2aa6:07869] [ 0] /lib/x86_64-linux-gnu/libpthread.so.0(+0x12890)[0x7fa136492890]\n",
            "[f7680fdd2aa6:07869] [ 1] /lib/x86_64-linux-gnu/libc.so.6(getenv+0xa5)[0x7fa1360d1785]\n",
            "[f7680fdd2aa6:07869] [ 2] /usr/lib/x86_64-linux-gnu/libtcmalloc.so.4(_ZN13TCMallocGuardD1Ev+0x34)[0x7fa13693ce44]\n",
            "[f7680fdd2aa6:07869] [ 3] /lib/x86_64-linux-gnu/libc.so.6(__cxa_finalize+0xf5)[0x7fa1360d2615]\n",
            "[f7680fdd2aa6:07869] [ 4] /usr/lib/x86_64-linux-gnu/libtcmalloc.so.4(+0x13cb3)[0x7fa13693acb3]\n",
            "[f7680fdd2aa6:07869] *** End of error message ***\n"
          ],
          "name": "stdout"
        }
      ]
    }
  ]
}