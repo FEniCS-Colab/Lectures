{
  "nbformat": 4,
  "nbformat_minor": 0,
  "metadata": {
    "colab": {
      "name": "multilayer_sphere.ipynb",
      "version": "0.3.2",
      "provenance": [],
      "collapsed_sections": [],
      "toc_visible": true,
      "include_colab_link": true
    },
    "kernelspec": {
      "name": "python2",
      "display_name": "Python 2"
    }
  },
  "cells": [
    {
      "cell_type": "markdown",
      "metadata": {
        "id": "view-in-github",
        "colab_type": "text"
      },
      "source": [
        "<a href=\"https://colab.research.google.com/github/van-dang/FEniCS-Colab/blob/master/multilayer_sphere.ipynb\" target=\"_parent\"><img src=\"https://colab.research.google.com/assets/colab-badge.svg\" alt=\"Open In Colab\"/></a>"
      ]
    },
    {
      "metadata": {
        "id": "ZI0_hESMDOqf",
        "colab_type": "code",
        "outputId": "27a87876-cdf7-4b68-d3c0-1b131baa17d4",
        "colab": {
          "base_uri": "https://localhost:8080/",
          "height": 729
        }
      },
      "cell_type": "code",
      "source": [
        "# clean files\n",
        "!rm multi_layer_sphere* wget*\n",
        "\n",
        "# # # # # # # # Download .geo file for gmsh # # # # # # # #\n",
        "!wget http://www.csc.kth.se/~vdnguyen/codes/multi_layer_sphere.geo\n",
        "\n",
        "# # # # # # # # # # Run with Gmsh # # # # # # # # # # # #\n",
        "!apt-get install gmsh\n",
        "!gmsh --version\n",
        "!gmsh -v 0 -3 multi_layer_sphere.geo -o multi_layer_sphere.msh\n",
        "\n",
        "# Save to your local computer\n",
        "from google.colab import files\n",
        "files.download('multi_layer_sphere.msh')\n",
        "\n",
        "# # # # # # # # # # Convert mesh by meshio # # # # # # # # \n",
        "# !pip install -U meshio\n",
        "# !apt-get install python-lxml\n",
        "# !meshio-convert multi_layer_sphere.msh multi_layer_sphere.vtu\n"
      ],
      "execution_count": 2,
      "outputs": [
        {
          "output_type": "stream",
          "text": [
            "rm: cannot remove 'wget*': No such file or directory\n",
            "--2018-12-01 17:35:19--  http://www.csc.kth.se/~vdnguyen/codes/multi_layer_sphere.geo\n",
            "Resolving www.csc.kth.se (www.csc.kth.se)... 130.237.227.116\n",
            "Connecting to www.csc.kth.se (www.csc.kth.se)|130.237.227.116|:80... connected.\n",
            "HTTP request sent, awaiting response... 200 OK\n",
            "Length: 1688 (1.6K) [text/plain]\n",
            "Saving to: ‘multi_layer_sphere.geo’\n",
            "\n",
            "multi_layer_sphere. 100%[===================>]   1.65K  --.-KB/s    in 0s      \n",
            "\n",
            "2018-12-01 17:35:19 (169 MB/s) - ‘multi_layer_sphere.geo’ saved [1688/1688]\n",
            "\n",
            "Reading package lists... Done\n",
            "Building dependency tree       \n",
            "Reading state information... Done\n",
            "gmsh is already the newest version (3.0.6+dfsg1-1).\n",
            "0 upgraded, 0 newly installed, 0 to remove and 7 not upgraded.\n",
            "3.0.6\n",
            "[ef79fa263817:00835] *** Process received signal ***\n",
            "[ef79fa263817:00835] Signal: Segmentation fault (11)\n",
            "[ef79fa263817:00835] Signal code: Address not mapped (1)\n",
            "[ef79fa263817:00835] Failing at address: 0x7f40ecf8520d\n",
            "[ef79fa263817:00835] [ 0] /lib/x86_64-linux-gnu/libpthread.so.0(+0x12890)[0x7f40efc2f890]\n",
            "[ef79fa263817:00835] [ 1] /lib/x86_64-linux-gnu/libc.so.6(getenv+0xa5)[0x7f40ef86e785]\n",
            "[ef79fa263817:00835] [ 2] /usr/lib/x86_64-linux-gnu/libtcmalloc.so.4(_ZN13TCMallocGuardD1Ev+0x34)[0x7f40f00d9e44]\n",
            "[ef79fa263817:00835] [ 3] /lib/x86_64-linux-gnu/libc.so.6(__cxa_finalize+0xf5)[0x7f40ef86f615]\n",
            "[ef79fa263817:00835] [ 4] /usr/lib/x86_64-linux-gnu/libtcmalloc.so.4(+0x13cb3)[0x7f40f00d7cb3]\n",
            "[ef79fa263817:00835] *** End of error message ***\n",
            "[ef79fa263817:00843] *** Process received signal ***\n",
            "[ef79fa263817:00843] Signal: Segmentation fault (11)\n",
            "[ef79fa263817:00843] Signal code: Address not mapped (1)\n",
            "[ef79fa263817:00843] Failing at address: 0x7f147e72820d\n",
            "[ef79fa263817:00843] [ 0] /lib/x86_64-linux-gnu/libpthread.so.0(+0x12890)[0x7f14813d2890]\n",
            "[ef79fa263817:00843] [ 1] /lib/x86_64-linux-gnu/libc.so.6(getenv+0xa5)[0x7f1481011785]\n",
            "[ef79fa263817:00843] [ 2] /usr/lib/x86_64-linux-gnu/libtcmalloc.so.4(_ZN13TCMallocGuardD1Ev+0x34)[0x7f148187ce44]\n",
            "[ef79fa263817:00843] [ 3] /lib/x86_64-linux-gnu/libc.so.6(__cxa_finalize+0xf5)[0x7f1481012615]\n",
            "[ef79fa263817:00843] [ 4] /usr/lib/x86_64-linux-gnu/libtcmalloc.so.4(+0x13cb3)[0x7f148187acb3]\n",
            "[ef79fa263817:00843] *** End of error message ***\n"
          ],
          "name": "stdout"
        }
      ]
    },
    {
      "metadata": {
        "id": "QnDm7QUtzNv3",
        "colab_type": "text"
      },
      "cell_type": "markdown",
      "source": [
        "# Visualization\n",
        "\n",
        "![alt text](https://www.csc.kth.se/~vdnguyen/images/multi_layer_sphere.png)"
      ]
    }
  ]
}