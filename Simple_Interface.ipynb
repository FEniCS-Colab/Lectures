{
  "nbformat": 4,
  "nbformat_minor": 0,
  "metadata": {
    "colab": {
      "name": "Simple_Interface.ipynb",
      "version": "0.3.2",
      "provenance": [],
      "collapsed_sections": [
        "vS_YdSbqFOln",
        "9SJXe6I5JUwF",
        "r6GW2fwLE042",
        "pfryWRtY-FU-"
      ],
      "toc_visible": true,
      "include_colab_link": true
    },
    "kernelspec": {
      "name": "python3",
      "display_name": "Python 3"
    },
    "accelerator": "GPU"
  },
  "cells": [
    {
      "cell_type": "markdown",
      "metadata": {
        "id": "view-in-github",
        "colab_type": "text"
      },
      "source": [
        "<a href=\"https://colab.research.google.com/github/van-dang/FEniCS-Colab/blob/master/Simple_Interface.ipynb\" target=\"_parent\"><img src=\"https://colab.research.google.com/assets/colab-badge.svg\" alt=\"Open In Colab\"/></a>"
      ]
    },
    {
      "metadata": {
        "id": "vS_YdSbqFOln",
        "colab_type": "text"
      },
      "cell_type": "markdown",
      "source": [
        "# About the code"
      ]
    },
    {
      "metadata": {
        "id": "CiQ9r51xKgWh",
        "colab_type": "code",
        "outputId": "5496735d-4e7f-48a7-dec6-709c314d631b",
        "colab": {
          "base_uri": "https://localhost:8080/",
          "height": 34
        }
      },
      "cell_type": "code",
      "source": [
        "\"\"\" This demo program solves the Laplace equation with flux conditions\"\"\"\n",
        "\"\"\"V.-D. Nguyen, J. Jansson, J. Hoffman, J.-R. Li, A partition of unity finite element method \"\"\"\n",
        "\"\"\"for computational diffusion MRI, J. Comput. Phys., August 2018.\"\"\"\n",
        "\"\"\"Section 7.1. Optimal convergence in space discretization\"\"\"\n",
        "\n",
        "\n",
        "# Copyright (C) 2017 Van-Dang Nguyen (vdnguyen@kth.se)\n",
        "\n",
        "# This file is part of FEniCS\n",
        "#\n",
        "# FEniCS is free software: you can redistribute it and/or modify\n",
        "# it under the terms of the GNU Lesser General Public License as published by\n",
        "# the Free Software Foundation, either version 3 of the License, or\n",
        "# (at your option) any later version."
      ],
      "execution_count": 0,
      "outputs": [
        {
          "output_type": "execute_result",
          "data": {
            "text/plain": [
              "'Section 7.1. Optimal convergence in space discretization'"
            ]
          },
          "metadata": {
            "tags": []
          },
          "execution_count": 3
        }
      ]
    },
    {
      "metadata": {
        "id": "9SJXe6I5JUwF",
        "colab_type": "text"
      },
      "cell_type": "markdown",
      "source": [
        "# Setting a working environment with FEniCS"
      ]
    },
    {
      "metadata": {
        "id": "4jWzVxURFVLj",
        "colab_type": "code",
        "outputId": "921d2a60-ab87-44ab-fc19-5c32995a138f",
        "colab": {
          "base_uri": "https://localhost:8080/",
          "height": 65
        }
      },
      "cell_type": "code",
      "source": [
        "from google.colab import files\n",
        "\n",
        "import platform, sys\n",
        "python_version=platform.python_version()\n",
        "from distutils.version import LooseVersion, StrictVersion\n",
        "\n",
        "if ( LooseVersion(python_version) < LooseVersion(\"3.0.0\")):\n",
        "    print(\"Python3 is needed!\");\n",
        "    print(\"How to fix: Runtime/Change_runtime_type/Python 3\");\n",
        "    sys.exit()\n",
        "    \n",
        "try:\n",
        "    from dolfin import *; from mshr import *\n",
        "except ImportError as e:\n",
        "    !apt-get install -y -qq software-properties-common python-software-properties module-init-tools\n",
        "    !add-apt-repository -y ppa:fenics-packages/fenics\n",
        "    !apt-get update -qq\n",
        "    !apt install -y --no-install-recommends fenics\n",
        "    from dolfin import *; from mshr import *\n",
        "    \n",
        "import matplotlib.pyplot as plt;\n",
        "from IPython.display import clear_output, display; import time; import dolfin.common.plotting as fenicsplot \n",
        "import time\n",
        "\n",
        "import os, sys, shutil\n",
        "\n",
        "dolfin_version = dolfin.__version__\n",
        "print ('dolfin version:', dolfin_version)\n",
        "\n",
        "!rm -rf * # clean up all files\n",
        "# Useful commands\n",
        "# Remove an empty folder      : os.rmdir(\"my_results\")\n",
        "# Remove a folder with files  : shutil.rmtree(\"results\")\n",
        "# Make a folder               : os.mkdir(\"my_results\")\n",
        "# Runtime/Change_runtime_type/Python3"
      ],
      "execution_count": 3,
      "outputs": [
        {
          "output_type": "stream",
          "text": [
            "dolfin version: 2018.1.0\n"
          ],
          "name": "stdout"
        }
      ]
    },
    {
      "metadata": {
        "id": "aFEvif9PF2yH",
        "colab_type": "text"
      },
      "cell_type": "markdown",
      "source": [
        "# Solve an interface problem"
      ]
    },
    {
      "metadata": {
        "id": "DYZ5SWlw69tQ",
        "colab_type": "code",
        "outputId": "39a8ebca-43c1-4618-ab8c-ae4961f4f094",
        "colab": {
          "base_uri": "https://localhost:8080/",
          "height": 368
        }
      },
      "cell_type": "code",
      "source": [
        "\"\"\" This demo program solves the Laplace equation with flux conditions\"\"\"\n",
        "\n",
        "# Copyright (C) 2017 Van-Dang Nguyen (vdnguyen@kth.se)\n",
        "\n",
        "# This file is part of FEniCS\n",
        "#\n",
        "# FEniCS is free software: you can redistribute it and/or modify\n",
        "# it under the terms of the GNU Lesser General Public License as published by\n",
        "# the Free Software Foundation, either version 3 of the License, or\n",
        "# (at your option) any later version.\n",
        "\n",
        "\n",
        "\n",
        "XMIN, XMAX, YMIN, YMAX = -1.0, 1.0, -1.0, 1.0\n",
        "porder = 2;\n",
        "\n",
        "case = \"square\"\n",
        "if case==\"square\":\n",
        "    eps = 1e-4;\n",
        "    nx, ny = 10, 10;\n",
        "    factor = 1;\n",
        "    mesh = RectangleMesh(Point(XMIN, YMIN), Point(XMAX, YMAX), factor*nx, factor*ny, \"right\")\n",
        "else:\n",
        "    print(case)\n",
        "    factor = 1;\n",
        "    SEGMENTS = 10*factor;\n",
        "    mre = 10*factor;\n",
        "    R = 0.5;\n",
        "    domain = Rectangle(Point(XMIN, YMIN), Point(XMAX, YMAX))\n",
        "    circle = Circle(Point(0, 0), R, SEGMENTS)\n",
        "    domain.set_subdomain(1, circle)\n",
        "    mesh = generate_mesh(domain, mre)\n",
        " \n",
        "# plot(mesh)\n",
        "\n",
        "hmin = mesh.hmin();\n",
        "h = Circumradius(mesh);\n",
        "# h = 0.5*CellSize(mesh);\n",
        "\n",
        "###\n",
        "def ieval(u,omega):\n",
        "    if omega==2:\n",
        "        return u('+')*theta('+') + u('-')*theta('-') + u('+')*(1.-theta('+')) + u('-')*(1.-theta('-'));\n",
        "    if omega==1:\n",
        "        return u('+')*theta('+') + u('-')*theta('-');\n",
        "    if omega==0:\n",
        "        return u('+')*(1.-theta('+')) + u('-')*(1.-theta('-'))\n",
        "\n",
        "def NodeNormal(mesh, theta):\n",
        "    V = VectorFunctionSpace(mesh , \"CG\", 1);\n",
        "    u = TrialFunction(V)\n",
        "    v = TestFunction(V)\n",
        "    n = FacetNormal(mesh);\n",
        "    lamb = 1000./h;\n",
        "    a=inner(u,v)*dx + lamb*inner(u,v)*ds + avg(lamb)*inner(ieval(u,0),ieval(v,0))*abs(jump(theta))*dS\n",
        "    L=lamb*inner(n,v)*ds + avg(lamb)*inner(ieval(n,0),ieval(v,0))*abs(jump(theta))*dS\n",
        "    w = Function(V)\n",
        "    solve(a==L, w);\n",
        "    \n",
        "    class MyExpression0(Expression):\n",
        "        def eval(self, value, x):\n",
        "            xx = w(x)\n",
        "            norm = pow(xx[0]*xx[0]+xx[1]*xx[1],0.5)\n",
        "            if norm<0.8:\n",
        "                value[0] = 0;\n",
        "                value[1] = 0\n",
        "            else:\n",
        "                value[0] = xx[0]/norm;\n",
        "                value[1] = xx[1]/norm;\n",
        "        def value_shape(self):\n",
        "            return (2,)\n",
        "    f0 = MyExpression0(degree=8)\n",
        "    \n",
        "    w = interpolate(f0,V);\n",
        "    return w;\n",
        "####\n",
        "\n",
        "class Exterior(SubDomain):\n",
        "    def inside (self,x,on_boundary):\n",
        "        if case==\"square\":\n",
        "            return x[0]*x[0]>0.4*0.4-hmin/10. or x[1]*x[1]>0.4*0.4-hmin/10.\n",
        "        else:\n",
        "            d = sqrt((x[0])*(x[0])+(x[1])*(x[1]));\n",
        "            return d>=R-hmin/4.0;\n",
        "\n",
        "class DirichletBoundary(SubDomain):\n",
        "    def inside (self,x,on_boundary):\n",
        "        return on_boundary;\n",
        "\n",
        "# Mark exterior domain to 1, interior domain to 0\n",
        "exterior = Exterior();\n",
        "\n",
        "# cellmarker = CellFunction(\"size_t\", mesh)\n",
        "cellmarker = MeshFunction(\"size_t\", mesh, mesh.topology().dim())\n",
        "cellmarker.set_all(0)\n",
        "exterior.mark(cellmarker,1)\n",
        "\n",
        "V_DG = FunctionSpace(mesh, 'DG', 0)\n",
        "dofmap_DG = V_DG.dofmap()\n",
        "theta = Function(V_DG)\n",
        "theta0 = Function(V_DG)\n",
        "\n",
        "for cell in cells(mesh):\n",
        "  theta.vector()[dofmap_DG.cell_dofs(cell.index())] = cellmarker[cell.index()];\n",
        "  theta0.vector()[dofmap_DG.cell_dofs(cell.index())] = 1.0-cellmarker[cell.index()];\n",
        "\n",
        "\n",
        "# plot(theta);\n",
        "\n",
        "W = VectorFunctionSpace(mesh , \"CG\", porder);\n",
        "\n",
        "mesh0 = SubMesh(mesh, cellmarker, 0)\n",
        "mesh1 = SubMesh(mesh, cellmarker, 1)\n",
        "\n",
        "def SubMeshSol(u, mesh, dolfin_version):\n",
        "    if dolfin_version=='1.6.0':\n",
        "        V = FunctionSpace(mesh, \"CG\", porder)\n",
        "    else:\n",
        "        # For FEniCS 2016, 2017\n",
        "        Ve = FiniteElement(\"CG\", mesh.ufl_cell(), porder)\n",
        "        V = FunctionSpace(mesh, Ve)\n",
        "    u_p = project(u, V);\n",
        "    return u_p;\n",
        "\n",
        "# plot(theta); interactive(); stop;\n",
        "\n",
        "# uexact1 = Expression(\"x[0]*x[0]*x[0]*x[0]+x[1]*x[1]*x[1]*x[1]+10\", domain=mesh, degree=8);\n",
        "uexact1=Expression (\"(pow(pow(x[0],2) + pow(x[1],2),2) - pow(x[0],2) + pow(x[1],2))/pow(pow(x[0],2) + pow(x[1],2)+1e-10,2)\",domain=mesh, degree=8);\n",
        "\n",
        "#uexact0 = Expression(\"-x[0]*x[0]-x[1]*x[1]\", domain=mesh, degree=8);\n",
        "uexact0 = Expression(\"16.*(0.5 - pow(x[0],2))*(4.0 - pow(x[1],2))-20.0\", domain=mesh, degree=8);\n",
        "\n",
        "f1 = uexact1\n",
        "# f1 =Expression(\"-12*(pow(x[0],2)+pow(x[1],2))\", degree=8)+uexact1\n",
        "\n",
        "# f0 =Expression(\"4.0\", degree=8)+uexact0\n",
        "f0 =Expression(\"- 32*pow(x[0],2) - 32*pow(x[1],2) + 144\",domain=mesh, degree=8)+uexact0\n",
        "\n",
        "u = TrialFunction(W);\n",
        "\n",
        "v = TestFunction(W);\n",
        "\n",
        "a = ( inner(grad(u[0]),grad(v[0]))+u[0]*v[0] )*theta0*dx + ( inner(grad(u[1]),grad(v[1]))+u[1]*v[1] )*theta*dx\n",
        "\n",
        "n = FacetNormal(mesh);\n",
        "n = ieval(n,0);\n",
        "\n",
        "L = f0*v[0]*(1-theta)*dx + f1*v[1]*theta*dx;\n",
        "\n",
        "gradu0 = grad(uexact0)\n",
        "gradu1 = grad(uexact1)\n",
        "\n",
        "jum_g = inner(ieval(gradu0,0)-ieval(gradu1,0),n);\n",
        "avg_g = 0.5*inner(ieval(gradu0,0)+ieval(gradu1,0),n);\n",
        "\n",
        "L += ( jum_g*0.5*(ieval(v[0],0)+ieval(v[1],1)) + avg_g*(ieval(v[0],0)-ieval(v[1],1)) )*abs(jump(theta))*dS\n",
        "\n",
        "dbc = DirichletBoundary();\n",
        "bc0 = DirichletBC(W.sub(0), uexact0, dbc)\n",
        "bc1 = DirichletBC(W.sub(1), uexact1, dbc)\n",
        "bcs = [bc0, bc1];\n",
        "\n",
        "A,b=assemble_system(a,L)\n",
        "\n",
        "for bc in bcs:\n",
        "    bc.apply(A);\n",
        "    bc.apply(b);\n",
        "\n",
        "\n",
        "A.ident_zeros();\n",
        "\n",
        "U = Function(W)\n",
        "\n",
        "solver = KrylovSolver(\"cg\",\"none\")\n",
        "solver.parameters[\"relative_tolerance\"] = 1e-7\n",
        "solver.parameters[\"maximum_iterations\"] = 5000\n",
        "\n",
        "solve(A, U.vector(), b)\n",
        "\n",
        "(U0, U1) = U.split(True)\n",
        "\n",
        "file_u0 = File(\"U0.pvd\")\n",
        "file_u1 = File(\"U1.pvd\")\n",
        "\n",
        "\n",
        "U0_p=SubMeshSol(U0, mesh0, dolfin_version)\n",
        "U1_p=SubMeshSol(U1, mesh1, dolfin_version)\n",
        "\n",
        "file_u0 << U0_p;\n",
        "file_u0 << U1_p;\n",
        "\n",
        "error_u0 = (U0-uexact0)*(U0-uexact0)*(1-theta)\n",
        "error_u1 = (U1-uexact1)*(U1-uexact1)*theta;\n",
        "L2u_err0= assemble((error_u0)*dx)\n",
        "L2u_err1= assemble((error_u1)*dx)\n",
        "\n",
        "plot(U0_p, cmap=\"coolwarm\")\n",
        "plot(U1_p, cmap=\"coolwarm\")\n",
        "\n",
        "print(\"%d\"%U.vector().size(),\" %.4e \"%mesh.hmin(), \" %.4e \"%mesh.hmax(),\" %e\"%sqrt(L2u_err0+L2u_err1))"
      ],
      "execution_count": 19,
      "outputs": [
        {
          "output_type": "stream",
          "text": [
            "882  2.8284e-01   2.8284e-01   3.674528e-02\n"
          ],
          "name": "stdout"
        },
        {
          "output_type": "display_data",
          "data": {
            "image/png": "[encoded data removed]",
            "text/plain": [
              "<matplotlib.figure.Figure at 0x7f79a2091048>"
            ]
          },
          "metadata": {
            "tags": []
          }
        }
      ]
    }
  ]
}