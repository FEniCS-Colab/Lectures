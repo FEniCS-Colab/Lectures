{
  "nbformat": 4,
  "nbformat_minor": 0,
  "metadata": {
    "colab": {
      "name": "interpolation_projection.ipynb",
      "version": "0.3.2",
      "provenance": [],
      "collapsed_sections": [],
      "include_colab_link": true
    },
    "kernelspec": {
      "name": "python3",
      "display_name": "Python 3"
    }
  },
  "cells": [
    {
      "cell_type": "markdown",
      "metadata": {
        "id": "view-in-github",
        "colab_type": "text"
      },
      "source": [
        "<a href=\"https://colab.research.google.com/github/van-dang/FEniCS-Colab/blob/master/FDM_FEM_1D.ipynb\" target=\"_parent\"><img src=\"https://colab.research.google.com/assets/colab-badge.svg\" alt=\"Open In Colab\"/></a>"
      ]
    },
    {
      "metadata": {
        "id": "DIqQdid0Sawk",
        "colab_type": "text"
      },
      "cell_type": "markdown",
      "source": [
        "# Finite Difference and Finite Element Method for 1D Poisson\n",
        "\n",
        "After this exercise, students should be able to\n",
        "\n",
        "*   Understand the difference between two numerical methods to solve a PDE: Finite Different Method and FInite Element Method.\n",
        "*   Explain two concepts: strong and weak solutions of a PDE.\n",
        "*   Bring two methods to practice.\n",
        "\n",
        "We consider 1D Poisson\n",
        "$$-u''=f\\,\\qquad x\\in(a, b)$$\n",
        "with Dirichlet boundary conditions $u(a)=u_a$ and $u(b)=u_b$\n",
        "where $u_a$ and $u_b$ are given.\n",
        "\n",
        "We will find the strong solution of the equation by the Finite Difference Method and weak solution by the Finite Element Method.\n",
        "\n",
        "First, we discretize the domain $[a, b]$ into $N-1$ subintervals by $N$ grid points $\\{x_k\\}_{k=0..N-1}$, $x_0=a$ and $x_{N-1}=b$. A uniform discretization is used here for the simplicity and assume that  $u^k=u(x_k)$. \n"
      ]
    },
    {
      "metadata": {
        "id": "iMMaYbjYZKKI",
        "colab_type": "text"
      },
      "cell_type": "markdown",
      "source": [
        "**Finite Difference Method** (FDM) uses the appproximation\n",
        "$$u''\\approx\\frac{u^{k+1}-2u^{k}+u^{k-1}}{h^2}$$\n",
        "The discretized equation\n",
        "$$-\\frac{u^{k+1}-2u^{k}+u^{k-1}}{h^2}=f^k, \\qquad k=1..N-2$$\n",
        "Matrix form\n",
        "$$-\\frac{1}{h^2}\\begin{bmatrix} - & - &  & \\\\  1 & -2 & 1\\\\ & 1 & -2 & 1  \\\\&&&...\\\\ & &  & 1 & -2 & 1 \\\\ & & &  & 1 & -2 & 1 \\\\ & & &  &  & - & - \n",
        "\\end{bmatrix}\\begin{bmatrix}  u^0 \\\\ u^1 \\\\ u^2 \\\\ ... \\\\ u^{N-3}\\\\ u^{N-2} \\\\ u^{N-1}\\end{bmatrix}  = \\begin{bmatrix}  f^0 \\\\ f^1 \\\\ f^2 \\\\ ... \\\\ f^{N-3}\\\\ f^{N-2} \\\\ f^{N-1}\\end{bmatrix}$$\n",
        "\n",
        "Apply the Dirichlet boundary conditions $u^0=u_a, u^{N-1}=u_b$\n",
        "\n",
        "$$\\begin{bmatrix} 1 &  &  & \\\\  -\\frac{1}{h^2} & \\frac{2}{h^2} & -\\frac{1}{h^2}\\\\ & -\\frac{1}{h^2} & \\frac{2}{h^2} & -\\frac{1}{h^2}  \\\\&&&...\\\\ & &  & -\\frac{1}{h^2} & \\frac{2}{h^2} & -\\frac{1}{h^2} \\\\ & & &  & -\\frac{1}{h^2} & \\frac{2}{h^2} & -\\frac{1}{h^2} \\\\ & & &  &  &  & 1 \n",
        "\\end{bmatrix}\\begin{bmatrix}  u^0 \\\\ u^1 \\\\ u^2 \\\\ ... \\\\ u^{N-3}\\\\ u^{N-2} \\\\ u^{N-1}\\end{bmatrix}  = \\begin{bmatrix}  u_a \\\\ f^1 \\\\ f^2 \\\\ ... \\\\ f^{N-3}\\\\ f^{N-2}\\\\u_b\\end{bmatrix}$$\n",
        "\n"
      ]
    },
    {
      "metadata": {
        "id": "QaL0dgBMSbiq",
        "colab_type": "code",
        "colab": {}
      },
      "cell_type": "code",
      "source": [
        "def FDM(f, a, b, N, u_bc):\n",
        "# Solving -u''=f in (a, b) by Finite Difference Method \n",
        "# Dirichlet boundary conditions at two ending points\n",
        "# Van-Dang Nguyen 2019  \n",
        "  xd= np.linspace(a, b, num=N)\n",
        "  # Grid size\n",
        "  h=xd[1]-xd[0]\n",
        "  ones=np.ones(N)\n",
        "\n",
        "  # Create left-hand side digonal matrix [1 -2 1]\n",
        "  data = -1/(h*h)*np.array([ones,-2*ones,ones])\n",
        "  diags = np.array([-1, 0, 1])\n",
        "  A=spdiags(data, diags, N, N,format=\"csr\").toarray()\n",
        "   \n",
        "  # Boundary conditions for the left-hand side \n",
        "  A[0,:] = 0; # zero out row 0 corresponding to x=a.\n",
        "  A[0,0]=1\n",
        "  A[N-1,:]=0; # zero out row N-1 corresponding to x=b.\n",
        "  A[N-1,N-1]=1\n",
        "  \n",
        "  # Boundary conditions for the right-hand side  \n",
        "  lam_f = sp.lambdify(x, f, modules=['numpy'])\n",
        "  rhs = lam_f(xd); # rhs = source \n",
        "  rhs[0], rhs[N-1]=u_bc(xd[0]), u_bc(xd[N-1]) # Dirichlet values\n",
        "  \n",
        "  ## solving the linear system\n",
        "  u= spsolve(A, rhs, permc_spec=None, use_umfpack=True)\n",
        "  return xd, u"
      ],
      "execution_count": 0,
      "outputs": []
    },
    {
      "metadata": {
        "id": "KStGW6DKfNZA",
        "colab_type": "text"
      },
      "cell_type": "markdown",
      "source": [
        "**Finite Element Method** gives the weak solutions. Here we illustrate how to find the finite solution of the equation in a linear space.\n",
        "\n",
        "On each element (sub-interval) $[x_k, x_{k+1}]$ with $h_k=|x_{k+1}-x_k|$, $u$ can be approximated by  a linear function\n",
        "\n",
        "$u(x)\\approx -\\frac{1}{h_k}u^k(x-x_{k+1})+\\frac{1}{h_k}u^{k+1}(x-x_k)=u^k\\varphi_{k,0}(x)+u^{k+1}\\varphi_{k,1}(x)$\n",
        "\n",
        "$\\varphi_{k}(x)$ is known as a linear basis function in FEM literature, \n",
        "\n",
        "$$\n",
        "\\varphi_{k,0}(x)=-\\frac{1}{h_k}(x-x_{k+1}) , \\quad \\varphi_{k,1}(x)=\\frac{1}{h_k}(x-x_{k}) \n",
        "$$\n",
        "\n",
        "Multiply both sides of the equation with a test function $v$, and integrate \n",
        "\n",
        "$$\\int_{x_k}^{x_{k+1}} -u'' v\\, dx = \\int_{x_k}^{k+1} f v \\,dx$$\n",
        "\n",
        "$$-u'v\\,\\biggl|_{x^k}^{x_{k+1}}+\\int_{x_k}^{x_{k+1}} u' v'\\, dx = \\int_{x_k}^{x_{k+1}} f \\,v \\,dx$$\n",
        "\n",
        "Let $q_k=u'(x_k)\\,v(x_k)$, we have \n",
        "$$-q_{k+1}+q_{k}+u^k\\int_{x_k}^{x_{k+1}} \\varphi_{k,0}'\\, v'\\, dx +u^{k+1}\\int_{x_k}^{x_{k+1}} \\varphi_{k,1}'\\, v'\\, dx = \\int_{x_k}^{x_{k+1}} f \\,v \\,dx$$\n",
        "\n",
        "It is enough to test with $v=\\varphi_{k,j}, \\quad j=0,1$\n",
        "\n",
        "* $j=0$,\n",
        "$$u^k\\int_{x_k}^{x_{k+1}} \\varphi_{k,0}'\\, \\varphi_{k,0}'\\, dx +u^{k+1}\\int_{x_k}^{x_{k+1}} \\varphi_{k,1}'\\, \\varphi_{k,0}'\\, dx = \\int_{x_k}^{x_{k+1}} f \\,\\varphi_{k,0} \\,dx-q_{k}$$\n",
        "\n",
        "* $j=1$, \n",
        "$$u^k\\int_{x_k}^{x_{k+1}} \\varphi_{k,0}'\\, \\varphi_{k,1}'\\, dx +u^{k+1}\\int_{x_k}^{x_{k+1}} \\varphi_{k,1}'\\, \\varphi_{k,1}'\\, dx = \\int_{x_k}^{x_{k+1}} f \\,\\varphi_{k,1} \\,dx+q_{k+1}$$\n",
        "\n",
        "Matrix form\n",
        "$$A^k U^k = F^k + Q^k$$\n",
        "where\n",
        "$$A_{mj}^k=\\int_{x_k}^{x_{k+1}} \\varphi_{k,m}'\\, \\varphi_{k,j}'\\, dx,\\quad F_j^k=\\int_{x_k}^{x_{k+1}} f \\,\\varphi_{k,j} \\,dx$$\n",
        "\n",
        "Matrix assembly\n",
        "$$A U = F + Q$$\n",
        "\n",
        "$$\\begin{bmatrix} A^0_{00} & A^0_{10} \\\\ A^0_{01} & A^0_{11} + A^1_{00} & A^1_{10} \\\\ & \\,\\, A^1_{01} & A^1_{11}+A^2_{00} & A^2_{10}\\\\ & & &...\\\\\n",
        "& &A^{N-4}_{01} & A^{N-4}_{11}+A^{N-3}_{00} & A^{N-3}_{10} \\\\ & & &  A^{N-3}_{01} & A^{N-3}_{11} + A^{N-2}_{00} & A^{N-2}_{10} \\\\ & & && A^{N-2}_{01} & A^{N-2}_{11}\n",
        "\\end{bmatrix}\n",
        "\\begin{bmatrix}  u^0 \\\\ u^1 \\\\ u^2 \\\\ ... \\\\ u^{N-3}\\\\ u^{N-2} \\\\ u^{N-1}\\end{bmatrix}  = \\begin{bmatrix}  f^0 \\\\ f^1 \\\\ f^2 \\\\ ... \\\\ f^{N-3}\\\\ f^{N-2}\\\\f^{N-1}\\end{bmatrix}\n",
        "+\\begin{bmatrix}  -q_0 \\\\ -q_1+q_1 \\\\-q_2+q_2 \\\\ ... \\\\ -q_{N-3}+q_{N-3}\\\\ -q_{N-2}+q_{N-2}\\\\q_{N-1}\\end{bmatrix}\n",
        "$$\n",
        "\n",
        "Apply the Dirichlet boundary conditions $u^0=u_a, u^{N-1}=u_b$\n",
        "\n",
        "$$\\begin{bmatrix} 1 &  \\\\ A^0_{10} & A^0_{11} + A^1_{00} & A^1_{01} \\\\ & A^1_{10} & A^1_{11}+A^2_{00} & A^2_{01}\\\\ & & &...\\\\\n",
        "& &A^{N-4}_{10}  & A^{N-4}_{11}+A^{N-3}_{00} & A^{N-3}_{01} \\\\ & & &  A^{N-3}_{10} & A^{N-3}_{11} + A^{N-2}_{00} & A^{N-2}_{01} \\\\ &&&& & 1\n",
        "\\end{bmatrix}\n",
        "\\begin{bmatrix}  u^0 \\\\ u^1 \\\\ u^2 \\\\ ... \\\\ u^{N-3}\\\\ u^{N-2} \\\\ u^{N-1}\\end{bmatrix}  = \\begin{bmatrix}  u_a \\\\ f^1 \\\\ f^2 \\\\ ... \\\\ f^{N-3}\\\\ f^{N-2}\\\\u_b\\end{bmatrix}\n",
        "$$\n",
        "\n",
        "Explicitly, we have\n",
        "$$A_{00}^k=\\frac{1}{h_k}, \\quad A_{01}^k=A_{10}^k=-\\frac{1}{h_k},\\quad A_{11}^k=\\frac{1}{h_k}$$\n",
        "and the matrix form is\n",
        "\n",
        "$$\\begin{bmatrix} 1 &  \\\\ \\frac{-1}{h} & \\frac{2}{h} & \\frac{-1}{h} \\\\ & \\frac{-1}{h} & \\frac{2}{h} & \\frac{-1}{h}\\\\ & & &...\\\\\n",
        "& &\\frac{-1}{h} & \\frac{2}{h} & \\frac{-1}{h} \\\\ & & & \\frac{-1}{h} & \\frac{2}{h} & \\frac{-1}{h} \\\\ &&&& & 1\n",
        "\\end{bmatrix}\n",
        "\\begin{bmatrix}  u^0 \\\\ u^1 \\\\ u^2 \\\\ ... \\\\ u^{N-3}\\\\ u^{N-2} \\\\ u^{N-1}\\end{bmatrix}  = \\begin{bmatrix}  u_a \\\\ f^1 \\\\ f^2 \\\\ ... \\\\ f^{N-3}\\\\ f^{N-2}\\\\u_b\\end{bmatrix}\n",
        "$$\n"
      ]
    },
    {
      "metadata": {
        "id": "9f9M8lH1L_uc",
        "colab_type": "code",
        "colab": {}
      },
      "cell_type": "code",
      "source": [
        "def FEM(f, a, b, N, u_bc):\n",
        "# Solving -u''=f in (a, b) by Linear Finite Element Method\n",
        "# Dirichlet boundary conditions at two ending points\n",
        "# Van-Dang Nguyen 2019  \n",
        "  \n",
        "  xd= np.linspace(a, b, num=N)\n",
        "  # A = sps.coo_matrix((N, N)) # empty matrix\n",
        "  # rhs = sps.coo_matrix((N, 1)) # empty matrix\n",
        "  A = np.zeros( (N, N) )\n",
        "  rhs = [0]*N;\n",
        "  for ele in range(0, N-1):\n",
        "    node0, node1 = ele, ele+1;\n",
        "    x0, x1 = xd[node0], xd[node1]\n",
        "    phi = basis_func(x0, x1)\n",
        "    dphi = diff_basis_func(x0, x1)\n",
        "    b0 = sp.integrate(phi[0]*f, (x, x0, x1))\n",
        "    b1 = sp.integrate(phi[1]*f, (x, x0, x1))\n",
        "        \n",
        "    A00 = sp.integrate(dphi[0]*dphi[0], (x, x0, x1))\n",
        "    A01 = sp.integrate(dphi[0]*dphi[1], (x, x0, x1))\n",
        "    A10 = sp.integrate(dphi[1]*dphi[0], (x, x0, x1))\n",
        "    A11 = sp.integrate(dphi[1]*dphi[1], (x, x0, x1))\n",
        "    \n",
        "    A[node0, node0] += A00\n",
        "    A[node0, node1] += A01\n",
        "    A[node1, node0] += A10\n",
        "    A[node1, node1] += A11\n",
        "\n",
        "    \n",
        "    rhs[node0] += float(b0);\n",
        "    rhs[node1] += float(b1);\n",
        "\n",
        "  # Boundary conditions for the left-hand side \n",
        "  A[0,:] = 0; # zero out row 0 corresponding to x=a.\n",
        "  A[0,0]=1\n",
        "  A[N-1,:]=0; # zero out row N-1 corresponding to x=b.\n",
        "  A[N-1,N-1]=1\n",
        " \n",
        "  # Boundary conditions for the right-hand side  \n",
        "  rhs[0], rhs[N-1]=float(u_bc(xd[0])), float(u_bc(xd[N-1])) # Dirichlet values\n",
        "\n",
        "  ## solving the linear system\n",
        "  u= spsolve(A, rhs, permc_spec=None, use_umfpack=True)\n",
        "  return xd, u\n",
        "\n",
        "def basis_func(x0, x1):\n",
        "  L = x1 - x0\n",
        "  phi = [0] * 2\n",
        "  phi[0] = -(x-x1)/L\n",
        "  phi[1] = (x-x0)/L  \n",
        "  return phi\n",
        "\n",
        "def diff_basis_func(x0, x1):\n",
        "  L = x1 - x0\n",
        "  dphi = [0] * 2\n",
        "  dphi[0] = -1./L\n",
        "  dphi[1] = 1./L  \n",
        "  return dphi"
      ],
      "execution_count": 0,
      "outputs": []
    },
    {
      "metadata": {
        "id": "7nrdltm8m5L8",
        "colab_type": "code",
        "outputId": "3c4d7acf-ddb7-41d8-9985-7fb3cca173eb",
        "colab": {
          "base_uri": "https://localhost:8080/",
          "height": 418
        }
      },
      "cell_type": "code",
      "source": [
        "import sympy as sp\n",
        "import numpy as np\n",
        "from scipy.sparse import spdiags\n",
        "import matplotlib.pyplot as plt\n",
        "from scipy.sparse.linalg import spsolve\n",
        "\n",
        "x = sp.Symbol('x') # global variable\n",
        "\n",
        "\n",
        "# N discrete points of [a, b]\n",
        "a, b, N = -5.0, 5.0, 10; \n",
        "\n",
        "# Compute the source based on a given exact solution\n",
        "x = sp.Symbol('x')\n",
        "ue = sp.sin(x)+ sp.cos(x)\n",
        "\n",
        "f = -sp.diff(ue, x, 2);\n",
        "lam_ue = sp.lambdify(x, ue, modules=['numpy'])\n",
        "      \n",
        "xd, u_fem = FEM(f, a, b, N, lam_ue)  \n",
        "\n",
        "xd, u_fdm = FDM(f, a, b, N, lam_ue)  \n",
        "\n",
        "xe = np.linspace(a, b, 100)\n",
        "ue_fine = lam_ue(xe)\n",
        "\n",
        "plt.plot(xe, ue_fine,'-',xd, u_fem,'--o',xd, u_fdm,'-.s')\n",
        "plt.gca().legend(('Exact','FEM','FDM'))"
      ],
      "execution_count": 3,
      "outputs": [
        {
          "output_type": "stream",
          "text": [
            "/usr/local/lib/python3.6/dist-packages/scipy/sparse/linalg/dsolve/linsolve.py:133: SparseEfficiencyWarning: spsolve requires A be CSC or CSR matrix format\n",
            "  SparseEfficiencyWarning)\n"
          ],
          "name": "stderr"
        },
        {
          "output_type": "execute_result",
          "data": {
            "text/plain": [
              "<matplotlib.legend.Legend at 0x7f00ec6f9630>"
            ]
          },
          "metadata": {
            "tags": []
          },
          "execution_count": 3
        },
        {
          "output_type": "display_data",
          "data": {
            "image/png": "[encoded data removed]",
            "text/plain": [
              "<Figure size 576x396 with 1 Axes>"
            ]
          },
          "metadata": {
            "tags": []
          }
        }
      ]
    },
    {
      "metadata": {
        "id": "y1UIbqwUqOKA",
        "colab_type": "text"
      },
      "cell_type": "markdown",
      "source": [
        "Questions\n",
        "\n",
        "*   Manipulate the number of grid points $N$ to compare the accuracy between the two methods\n",
        "*   Manipulate the source $f$ (by changing the exact solution $u_e$) to compare the accuracy.\n",
        "*   Modify the code for the quadratic basis functions.\n",
        "*   Modify the code to solve $-u''+u = f$."
      ]
    }
  ]
}