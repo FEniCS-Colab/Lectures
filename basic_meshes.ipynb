{
  "nbformat": 4,
  "nbformat_minor": 0,
  "metadata": {
    "colab": {
      "name": "basic_meshes.ipynb",
      "version": "0.3.2",
      "provenance": [],
      "collapsed_sections": [],
      "toc_visible": true,
      "include_colab_link": true
    },
    "kernelspec": {
      "name": "python2",
      "display_name": "Python 2"
    }
  },
  "cells": [
    {
      "cell_type": "markdown",
      "metadata": {
        "id": "view-in-github",
        "colab_type": "text"
      },
      "source": [
        "<a href=\"https://colab.research.google.com/github/van-dang/FEniCS-Colab/blob/master/basic_meshes.ipynb\" target=\"_parent\"><img src=\"https://colab.research.google.com/assets/colab-badge.svg\" alt=\"Open In Colab\"/></a>"
      ]
    },
    {
      "metadata": {
        "id": "rm2tVJporo6t",
        "colab_type": "text"
      },
      "cell_type": "markdown",
      "source": [
        "# Install GMSH"
      ]
    },
    {
      "metadata": {
        "id": "EEa8AUCprr7N",
        "colab_type": "code",
        "colab": {
          "base_uri": "https://localhost:8080/",
          "height": 350
        },
        "outputId": "afc6a788-7fbf-45f0-d71e-13e799f020c5"
      },
      "cell_type": "code",
      "source": [
        "# # # # # # # # # # Run with Gmsh # # # # # # # # # # # #\n",
        "!apt-get install gmsh\n",
        "!gmsh --version\n"
      ],
      "execution_count": 6,
      "outputs": [
        {
          "output_type": "stream",
          "text": [
            "Reading package lists... Done\n",
            "Building dependency tree       \n",
            "Reading state information... Done\n",
            "gmsh is already the newest version (3.0.6+dfsg1-1).\n",
            "0 upgraded, 0 newly installed, 0 to remove and 7 not upgraded.\n",
            "3.0.6\n",
            "[f7680fdd2aa6:07773] *** Process received signal ***\n",
            "[f7680fdd2aa6:07773] Signal: Segmentation fault (11)\n",
            "[f7680fdd2aa6:07773] Signal code: Address not mapped (1)\n",
            "[f7680fdd2aa6:07773] Failing at address: 0x7f337898d20d\n",
            "[f7680fdd2aa6:07773] [ 0] /lib/x86_64-linux-gnu/libpthread.so.0(+0x12890)[0x7f337b637890]\n",
            "[f7680fdd2aa6:07773] [ 1] /lib/x86_64-linux-gnu/libc.so.6(getenv+0xa5)[0x7f337b276785]\n",
            "[f7680fdd2aa6:07773] [ 2] /usr/lib/x86_64-linux-gnu/libtcmalloc.so.4(_ZN13TCMallocGuardD1Ev+0x34)[0x7f337bae1e44]\n",
            "[f7680fdd2aa6:07773] [ 3] /lib/x86_64-linux-gnu/libc.so.6(__cxa_finalize+0xf5)[0x7f337b277615]\n",
            "[f7680fdd2aa6:07773] [ 4] /usr/lib/x86_64-linux-gnu/libtcmalloc.so.4(+0x13cb3)[0x7f337badfcb3]\n",
            "[f7680fdd2aa6:07773] *** End of error message ***\n"
          ],
          "name": "stdout"
        }
      ]
    },
    {
      "metadata": {
        "id": "xs-Ak7Rfrv-o",
        "colab_type": "text"
      },
      "cell_type": "markdown",
      "source": [
        "# Download the geometry and generate a spherical mesh"
      ]
    },
    {
      "metadata": {
        "id": "UCyYTsZsr906",
        "colab_type": "code",
        "colab": {
          "base_uri": "https://localhost:8080/",
          "height": 2417
        },
        "outputId": "7c01b541-65e4-4e67-ef30-33ef499f661c"
      },
      "cell_type": "code",
      "source": [
        "!rm -rf *\n",
        "# Copy file from the internet.\n",
        "!wget https://raw.githubusercontent.com/toastpp/toastpp/master/examples/matlab/gmsh/sphere.geo\n",
        "\n",
        "!gmsh -3 sphere.geo -o sphere.msh"
      ],
      "execution_count": 4,
      "outputs": [
        {
          "output_type": "stream",
          "text": [
            "--2018-12-01 16:53:09--  https://raw.githubusercontent.com/toastpp/toastpp/master/examples/matlab/gmsh/sphere.geo\n",
            "Resolving raw.githubusercontent.com (raw.githubusercontent.com)... 151.101.0.133, 151.101.64.133, 151.101.128.133, ...\n",
            "Connecting to raw.githubusercontent.com (raw.githubusercontent.com)|151.101.0.133|:443... connected.\n",
            "HTTP request sent, awaiting response... 200 OK\n",
            "Length: 984 [text/plain]\n",
            "Saving to: ‘sphere.geo’\n",
            "\n",
            "\rsphere.geo            0%[                    ]       0  --.-KB/s               \rsphere.geo          100%[===================>]     984  --.-KB/s    in 0s      \n",
            "\n",
            "2018-12-01 16:53:09 (93.6 MB/s) - ‘sphere.geo’ saved [984/984]\n",
            "\n",
            "Info    : Running 'gmsh -3 sphere.geo -o sphere.msh' [Gmsh 3.0.6, 1 node, max. 1 thread]\n",
            "Info    : Started on Sat Dec  1 16:53:12 2018\n",
            "Info    : Reading 'sphere.geo'...\n",
            "Info    : 'sphere.geo', line 22 : 'Ruled Surface' command is deprecated: use 'Surface' instead\n",
            "Info    : 'sphere.geo', line 24 : 'Ruled Surface' command is deprecated: use 'Surface' instead\n",
            "Info    : 'sphere.geo', line 26 : 'Ruled Surface' command is deprecated: use 'Surface' instead\n",
            "Info    : 'sphere.geo', line 28 : 'Ruled Surface' command is deprecated: use 'Surface' instead\n",
            "Info    : 'sphere.geo', line 30 : 'Ruled Surface' command is deprecated: use 'Surface' instead\n",
            "Info    : 'sphere.geo', line 32 : 'Ruled Surface' command is deprecated: use 'Surface' instead\n",
            "Info    : 'sphere.geo', line 34 : 'Ruled Surface' command is deprecated: use 'Surface' instead\n",
            "Info    : 'sphere.geo', line 36 : 'Ruled Surface' command is deprecated: use 'Surface' instead\n",
            "Info    : Done reading 'sphere.geo'\n",
            "Info    : Finalized high order topology of periodic connections\n",
            "Info    : Meshing 1D...\n",
            "Info    : Meshing curve 1 (Circle)\n",
            "Info    : Meshing curve 2 (Circle)\n",
            "Info    : Meshing curve 3 (Circle)\n",
            "Info    : Meshing curve 4 (Circle)\n",
            "Info    : Meshing curve 5 (Circle)\n",
            "Info    : Meshing curve 6 (Circle)\n",
            "Info    : Meshing curve 7 (Circle)\n",
            "Info    : Meshing curve 8 (Circle)\n",
            "Info    : Meshing curve 9 (Circle)\n",
            "Info    : Meshing curve 10 (Circle)\n",
            "Info    : Meshing curve 11 (Circle)\n",
            "Info    : Meshing curve 12 (Circle)\n",
            "Info    : Done meshing 1D (0.002051 s)\n",
            "Info    : Meshing 2D...\n",
            "Info    : Meshing surface 14 (Ruled surface, MeshAdapt)\n",
            "Info    : Meshing surface 16 (Ruled surface, MeshAdapt)\n",
            "Info    : Meshing surface 18 (Ruled surface, MeshAdapt)\n",
            "Info    : Meshing surface 20 (Ruled surface, MeshAdapt)\n",
            "Info    : Meshing surface 22 (Ruled surface, MeshAdapt)\n",
            "Info    : Meshing surface 24 (Ruled surface, MeshAdapt)\n",
            "Info    : Meshing surface 26 (Ruled surface, MeshAdapt)\n",
            "Info    : Meshing surface 28 (Ruled surface, MeshAdapt)\n",
            "Info    : Done meshing 2D (0.818564 s)\n",
            "Info    : Meshing 3D...\n",
            "Info    : Delaunay Meshing 1 volumes with 1 connected components\n",
            "Info    : Meshing volume 30 (Delaunay)\n",
            "Delaunizing vertices...\n",
            "Delaunay seconds:  0.17137\n",
            "Creating surface mesh ...\n",
            "Surface mesh seconds:  0.005135\n",
            "Recovering boundaries...\n",
            "Boundary recovery seconds:  0.005808\n",
            "Removing exterior tetrahedra ...\n",
            "Exterior tets removal seconds:  0.000845\n",
            "Recovering Delaunayness...\n",
            "Delaunay recovery seconds:  0.047191\n",
            "Optimizing mesh...\n",
            "Optimization seconds:  0.001907\n",
            "\n",
            "Writing nodes.\n",
            "Writing elements.\n",
            "Writing faces.\n",
            "Writing edges.\n",
            "\n",
            "Output seconds:  0.002971\n",
            "Total running seconds:  0.235732\n",
            "\n",
            "Statistics:\n",
            "\n",
            "  Input points: 1820\n",
            "  Input facets: 3636\n",
            "  Input segments: 5454\n",
            "  Input holes: 0\n",
            "  Input regions: 0\n",
            "\n",
            "  Mesh points: 1820\n",
            "  Mesh tetrahedra: 5238\n",
            "  Mesh faces: 12294\n",
            "  Mesh edges: 8875\n",
            "  Mesh faces on facets: 3636\n",
            "  Mesh edges on segments: 5454\n",
            "\n",
            "Info    : 1820 points 8875 edges and 3636 faces in the initial mesh\n",
            "Info    : Found region 30\n",
            "Info    : 0 points created - Worst tet radius is 12.0471 (PTS removed 0 0)\n",
            "Info    : 500 points created - Worst tet radius is 1.54263 (PTS removed 0 0)\n",
            "Info    : 1000 points created - Worst tet radius is 1.25202 (PTS removed 0 0)\n",
            "Info    : 1500 points created - Worst tet radius is 1.10151 (PTS removed 0 0)\n",
            "Info    : 2000 points created - Worst tet radius is 1.00782 (PTS removed 0 0)\n",
            "Info    : 3D point insertion terminated (3886 points created):\n",
            "Info    :  - 0 Delaunay cavities modified for star shapeness\n",
            "Info    :  - 0 points could not be inserted\n",
            "Info    :  - 18533 tetrahedra created in 0.174633 sec. (106125 tets/sec.)\n",
            "Info    : Done meshing 3D (0.477008 s)\n",
            "Info    : Optimizing 3D mesh...\n",
            "Info    : Optimizing volume 30\n",
            "Info    : Opti : STARTS with  4.17466E+03 QBAD  1.34558E-02 QAVG  6.47446E-01\n",
            "Info    : Opti : 0.00 < QUAL < 0.10 :        58 elements\n",
            "Info    : Opti : 0.10 < QUAL < 0.20 :       194 elements\n",
            "Info    : Opti : 0.20 < QUAL < 0.30 :       356 elements\n",
            "Info    : Opti : 0.30 < QUAL < 0.40 :       593 elements\n",
            "Info    : Opti : 0.40 < QUAL < 0.50 :      1247 elements\n",
            "Info    : Opti : 0.50 < QUAL < 0.60 :      3319 elements\n",
            "Info    : Opti : 0.60 < QUAL < 0.70 :      5240 elements\n",
            "Info    : Opti : 0.70 < QUAL < 0.80 :      5278 elements\n",
            "Info    : Opti : 0.80 < QUAL < 0.90 :      2108 elements\n",
            "Info    : Opti : 0.90 < QUAL < 1.00 :       140 elements\n",
            "Info    : Opti : (581,0,26) =  4.17466E+03 QBAD  2.20911E-01 QAVG  6.63526E-01 (   0.018 sec)\n",
            "Info    : Opti : (590,0,28) =  4.17466E+03 QBAD  2.88745E-01 QAVG  6.63821E-01 (   0.021 sec)\n",
            "Info    : Opti : no ill-shaped tets in the mesh ;-)\n",
            "Info    : Opti : 0.00 < QUAL < 0.10 :         0 elements\n",
            "Info    : Opti : 0.10 < QUAL < 0.20 :         0 elements\n",
            "Info    : Opti : 0.20 < QUAL < 0.30 :         2 elements\n",
            "Info    : Opti : 0.30 < QUAL < 0.40 :       573 elements\n",
            "Info    : Opti : 0.40 < QUAL < 0.50 :      1186 elements\n",
            "Info    : Opti : 0.50 < QUAL < 0.60 :      3323 elements\n",
            "Info    : Opti : 0.60 < QUAL < 0.70 :      5333 elements\n",
            "Info    : Opti : 0.70 < QUAL < 0.80 :      5372 elements\n",
            "Info    : Opti : 0.80 < QUAL < 0.90 :      2097 elements\n",
            "Info    : Opti : 0.90 < QUAL < 1.00 :       142 elements\n",
            "Info    : Done optimizing 3D mesh (0.048676 s)\n",
            "Info    : 3887 vertices 21863 elements\n",
            "Info    : Writing 'sphere.msh'...\n",
            "Info    : Done writing 'sphere.msh'\n",
            "Info    : Stopped on Sat Dec  1 16:53:13 2018\n",
            "[f7680fdd2aa6:07710] *** Process received signal ***\n",
            "[f7680fdd2aa6:07710] Signal: Segmentation fault (11)\n",
            "[f7680fdd2aa6:07710] Signal code: Address not mapped (1)\n",
            "[f7680fdd2aa6:07710] Failing at address: 0x7f51b755c20d\n",
            "[f7680fdd2aa6:07710] [ 0] /lib/x86_64-linux-gnu/libpthread.so.0(+0x12890)[0x7f51ba206890]\n",
            "[f7680fdd2aa6:07710] [ 1] /lib/x86_64-linux-gnu/libc.so.6(getenv+0xa5)[0x7f51b9e45785]\n",
            "[f7680fdd2aa6:07710] [ 2] /usr/lib/x86_64-linux-gnu/libtcmalloc.so.4(_ZN13TCMallocGuardD1Ev+0x34)[0x7f51ba6b0e44]\n",
            "[f7680fdd2aa6:07710] [ 3] /lib/x86_64-linux-gnu/libc.so.6(__cxa_finalize+0xf5)[0x7f51b9e46615]\n",
            "[f7680fdd2aa6:07710] [ 4] /usr/lib/x86_64-linux-gnu/libtcmalloc.so.4(+0x13cb3)[0x7f51ba6aecb3]\n",
            "[f7680fdd2aa6:07710] *** End of error message ***\n"
          ],
          "name": "stdout"
        }
      ]
    },
    {
      "metadata": {
        "id": "tI4M0zH2rYbV",
        "colab_type": "text"
      },
      "cell_type": "markdown",
      "source": [
        "# Convert to another formats and download home"
      ]
    },
    {
      "metadata": {
        "id": "FxkEKgsErfvq",
        "colab_type": "code",
        "colab": {
          "base_uri": "https://localhost:8080/",
          "height": 435
        },
        "outputId": "e17a5792-430d-4436-f6d7-18b9c3c5058b"
      },
      "cell_type": "code",
      "source": [
        "# # # # # # # # # # Convert mesh by meshio # # # # # # # # \n",
        "!pip install -U meshio\n",
        "!apt-get install python-lxml\n",
        "!meshio-convert sphere.msh sphere.vtk # Output for Paraview\n",
        "\n",
        "# Save to your local computer\n",
        "# from google.colab import files\n",
        "# files.download('sphere.msh')\n",
        "\n",
        "# print(\"Complete! A mesh file 'sphere.msh' is downloaded to your computer!\")\n",
        "# print(\"Install GMSH (http://gmsh.info/) on your computer to see the mesh.\")"
      ],
      "execution_count": 5,
      "outputs": [
        {
          "output_type": "stream",
          "text": [
            "Requirement already up-to-date: meshio in /usr/local/lib/python2.7/dist-packages (2.3.3)\n",
            "Requirement already satisfied, skipping upgrade: numpy in /usr/local/lib/python2.7/dist-packages (from meshio) (1.14.6)\n",
            "Requirement already satisfied, skipping upgrade: pipdate<0.4.0,>=0.3.0 in /usr/local/lib/python2.7/dist-packages (from meshio) (0.3.2)\n",
            "Requirement already satisfied, skipping upgrade: requests in /usr/local/lib/python2.7/dist-packages (from pipdate<0.4.0,>=0.3.0->meshio) (2.18.4)\n",
            "Requirement already satisfied, skipping upgrade: appdirs in /usr/local/lib/python2.7/dist-packages (from pipdate<0.4.0,>=0.3.0->meshio) (1.4.3)\n",
            "Requirement already satisfied, skipping upgrade: idna<2.7,>=2.5 in /usr/local/lib/python2.7/dist-packages (from requests->pipdate<0.4.0,>=0.3.0->meshio) (2.6)\n",
            "Requirement already satisfied, skipping upgrade: urllib3<1.23,>=1.21.1 in /usr/local/lib/python2.7/dist-packages (from requests->pipdate<0.4.0,>=0.3.0->meshio) (1.22)\n",
            "Requirement already satisfied, skipping upgrade: certifi>=2017.4.17 in /usr/local/lib/python2.7/dist-packages (from requests->pipdate<0.4.0,>=0.3.0->meshio) (2018.10.15)\n",
            "Requirement already satisfied, skipping upgrade: chardet<3.1.0,>=3.0.2 in /usr/local/lib/python2.7/dist-packages (from requests->pipdate<0.4.0,>=0.3.0->meshio) (3.0.4)\n",
            "Reading package lists... Done\n",
            "Building dependency tree       \n",
            "Reading state information... Done\n",
            "python-lxml is already the newest version (4.2.1-1).\n",
            "0 upgraded, 0 newly installed, 0 to remove and 7 not upgraded.\n",
            "Number of points: 3887\n",
            "Number of elements:\n",
            "  triangle: 3636\n",
            "  line: 192\n",
            "  vertex: 7\n",
            "  tetra: 18028\n",
            "Cell data: gmsh:physical, gmsh:geometrical\n"
          ],
          "name": "stdout"
        }
      ]
    },
    {
      "metadata": {
        "id": "5E8lSJaWsezI",
        "colab_type": "text"
      },
      "cell_type": "markdown",
      "source": [
        "# The result visualized with Paraview \n",
        "![](http://www.csc.kth.se/~vdnguyen/images/sphere.png)"
      ]
    }
  ]
}