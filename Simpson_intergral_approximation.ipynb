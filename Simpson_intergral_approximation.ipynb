{
  "nbformat": 4,
  "nbformat_minor": 0,
  "metadata": {
    "colab": {
      "name": "Simpson_intergral_approximation.ipynb",
      "version": "0.3.2",
      "provenance": [],
      "collapsed_sections": [],
      "include_colab_link": true
    },
    "kernelspec": {
      "name": "python3",
      "display_name": "Python 3"
    }
  },
  "cells": [
    {
      "cell_type": "markdown",
      "metadata": {
        "id": "view-in-github",
        "colab_type": "text"
      },
      "source": [
        "<a href=\"https://colab.research.google.com/github/FEniCS-Colab/Lectures/blob/Duc/Simpson_intergral_approximation.ipynb\" target=\"_parent\"><img src=\"https://colab.research.google.com/assets/colab-badge.svg\" alt=\"Open In Colab\"/></a>"
      ]
    },
    {
      "metadata": {
        "id": "YMvkLDsBrVYZ",
        "colab_type": "text"
      },
      "cell_type": "markdown",
      "source": [
        "**Simpson Rule**\n",
        "\n",
        "Numerical integration is the approximate computation of an integral\n",
        "using numerical techniques. One of them is Simpson Rule. This techniqure\n",
        "requires to decompose interval into $\\text{n}$ segments of equal\n",
        "width, i.e. $x_{i}=a+ih$ where $i=0,...,n$ and $h=(b-a)/n$, then\n",
        "the Simpson approximation is given as\n",
        "\n",
        "\\begin{equation}\n",
        " \\int_{a}^{b}f(x)\\ dx=\\left(b-a\\right)\\frac{f(x_{1})+4\\sum_{i=2,4,6}^{n}f(x_{i})+2\\sum_{i=3,5,7}^{n-1}f(x_{j})+f(x_{n+1})}{3n} \n",
        "\\end{equation}\n"
      ]
    },
    {
      "metadata": {
        "id": "WNetbOaUpe1n",
        "colab_type": "code",
        "colab": {
          "base_uri": "https://localhost:8080/",
          "height": 52
        },
        "outputId": "9cbffaca-df82-40d3-fcf8-d7d17ea3fba0"
      },
      "cell_type": "code",
      "source": [
        "import math\n",
        "\n",
        "def cube(x):\n",
        "\treturn x*x*x\n",
        "\n",
        "def sin(x):\n",
        "\treturn math.sin(x)\n",
        "\n",
        "def simpson(f, a, b, steps):\n",
        "\th = (b-a)/float(steps)\n",
        "\ta1 = a+h/2\n",
        "\ts1 = sum( f(a1+i*h) for i in range(0,steps))\n",
        "\ts2 = sum( f(a+i*h) for i in range(1,steps))\n",
        "\tap_int = (h/6.0)*(f(a)+f(b)+4.0*s1+2.0*s2)\n",
        "\tprint(\"Simpson approximation of integration of %s(x) on [%s, %s] is %f\" %(f.__name__, str(a), str(b), ap_int))\n",
        "\treturn ap_int \n",
        "\n",
        "if __name__ == '__main__':\n",
        "\ta = 0.0 \n",
        "\tb = 10.0\n",
        "\tsteps = 10\n",
        "\tap_int = simpson(cube, a, b, steps)\n",
        "\tap_int = simpson(sin, a, b, steps)"
      ],
      "execution_count": 1,
      "outputs": [
        {
          "output_type": "stream",
          "text": [
            "Simpson approximation of integration of cube(x) on [0.0, 10.0] is 2500.000000\n",
            "Simpson approximation of integration of sin(x) on [0.0, 10.0] is 1.839730\n"
          ],
          "name": "stdout"
        }
      ]
    }
  ]
}