{
  "nbformat": 4,
  "nbformat_minor": 0,
  "metadata": {
    "colab": {
      "name": "Poisson_Colab.ipynb",
      "version": "0.3.2",
      "provenance": [],
      "collapsed_sections": [
        "vS_YdSbqFOln",
        "9SJXe6I5JUwF",
        "r6GW2fwLE042"
      ],
      "include_colab_link": true
    },
    "kernelspec": {
      "name": "python3",
      "display_name": "Python 3"
    },
    "accelerator": "GPU"
  },
  "cells": [
    {
      "cell_type": "markdown",
      "metadata": {
        "id": "view-in-github",
        "colab_type": "text"
      },
      "source": [
        "<a href=\"https://colab.research.google.com/github/van-dang/FEniCS-Colab/blob/master/Wave2D_Colab.ipynb\" target=\"_parent\"><img src=\"https://colab.research.google.com/assets/colab-badge.svg\" alt=\"Open In Colab\"/></a>"
      ]
    },
    {
      "metadata": {
        "id": "vS_YdSbqFOln",
        "colab_type": "text"
      },
      "cell_type": "markdown",
      "source": [
        "# Problem description"
      ]
    },
    {
      "metadata": {
        "id": "4bw6sEm-g3ts",
        "colab_type": "text"
      },
      "cell_type": "markdown",
      "source": [
        "This example illustrates how to model the Interference of waves due to two-point sources corresponding to this experiment  https://www.youtube.com/watch?v=vS2qKx7e9OE.\n",
        "\n",
        "Denote $u=u(x,t)$ to be the mechanical displacement of a wave at location $x\\in\\Omega$ and time $t\\in [0,T]$, the wave equation for $u$ is\n",
        "\n",
        "$$\\frac{\\partial^2 u}{\\partial t^2}=c^2\\,\\Delta u$$\n",
        "where $c$ is the propagation speed of the wave. \n",
        "\n",
        "The initial condition is zero. The equation needs to be subjected to one or several boundary conditions on the boundary $\\partial \\Omega$. Here two source points need to be imposed.\n",
        "\n",
        "\n",
        "We first discretize $\\Omega$ into triangles and we look for solutions in a space of piece-wise linear functions. This process is automated in FEniCS and we just need to derive the weak forms.\n",
        "\n",
        "Multiply both sides of the equation with a test function $v$ and integrate it over $\\Omega$, we obtain\n",
        "\n",
        "$$\\displaystyle \\int\\limits_{\\Omega} \\frac{\\partial^2 u}{\\partial t^2}\\, v\\, dx = \\int\\limits_{\\Omega} c^2\\,\\Delta u\\, v\\, dx \\qquad (1).$$\n",
        "\n",
        "Apply the Green's first identity, i. e.\n",
        "\n",
        "$$\\displaystyle \\int\\limits_{\\Omega} \\Delta u\\, v\\, dx=\\int\\limits_{\\partial\\Omega} \\nabla u\\cdot \\mathbf{n}\\, v\\, ds - \\int\\limits_{\\Omega} \\nabla u \\cdot\\nabla v\\, dx,$$\n",
        "\n",
        "and notice that the boundary term vanishes due to the Neumann boundary conditions, Eq. (1) is rewritten as\n",
        "$$\\displaystyle \\int\\limits_{\\Omega} \\frac{\\partial u}{\\partial t}\\, v\\, dx =-\\int\\limits_{\\Omega} \\kappa \\nabla u \\cdot\\nabla v\\, dx\\qquad (2).$$\n",
        "\n",
        "Now, we discretize the time domain $[0, T]$ into subdomains $[t^{k+1},t^k]_{k=0,N-1}$ where $t^0=0$ and $t^N=T$. \n",
        "\n",
        "For any $t\\in[t^{k+1},t^k]$, we can approximate the time derivatives \n",
        "$$\\frac{\\partial u(x,t)}{\\partial t}\\approx\\frac{u(x,t^{k+1})-2\\,u(x,t^k)+u(x,t^{k-1})}{k^2}=\\frac{u^{k+1}-2\\,u^k+u^{k-1}}{k^2}$$\n",
        "\n",
        "Subsitute everything to Eq. (2) we have a time-space discretization of the wave equation\n",
        "\n",
        "$$\\displaystyle \\int\\limits_{\\Omega} \\frac{u^{k+1}-2\\,u^k+u^{k-1}}{k^2}\\, v\\, dx =-\\int\\limits_{\\Omega} c^2\\, \\nabla u^{k+1} \\cdot\\nabla v\\, dx.$$\n",
        "\n",
        "$$\\displaystyle \\int\\limits_{\\Omega} {u^{k+1} v\\, dx+\\int\\limits_{\\Omega} k^2\\,c^2\\, \\nabla u^{k+1} \\cdot\\nabla v\\, dx=\\int\\limits_{\\Omega} 2\\,u^k-u^{k-1}}\\, v\\, dx.$$\n",
        "\n",
        "Let $$a(u^{k+1},v)=\\displaystyle \\int\\limits_{\\Omega} u^{k+1} v\\, dx+\\int\\limits_{\\Omega} k^2\\,c^2\\, \\nabla u^{k+1} \\cdot\\nabla v\\, dx, \\qquad L(v)=\\int\\limits_{\\Omega} 2\\,u^k-u^{k-1}\\, v\\, dx$$\n",
        "we just need to simply find the solution for the equation\n",
        "$$a(u^{k+1},v)=L(v)$$\n",
        "where $a$, and $L$ are known as the bilinear and linear forms in FEM literation.\n",
        "\n",
        "In FEniCS, the bilinear and linear forms can be simply written as\n",
        "\n",
        "    a = u*v*dx + k*k*c*c*inner(grad(u), grad(v))*dx\n",
        "    L = 2*u1*v*dx-u0*v*dx"
      ]
    },
    {
      "metadata": {
        "id": "9SJXe6I5JUwF",
        "colab_type": "text"
      },
      "cell_type": "markdown",
      "source": [
        "# Setting a working environment with FEniCS"
      ]
    },
    {
      "metadata": {
        "id": "4jWzVxURFVLj",
        "colab_type": "code",
        "outputId": "7f8687ed-b694-42a0-e67d-f30bdc1baf67",
        "colab": {
          "base_uri": "https://localhost:8080/",
          "height": 65
        }
      },
      "cell_type": "code",
      "source": [
        "from google.colab import files\n",
        "\n",
        "import platform, sys\n",
        "python_version=platform.python_version()\n",
        "from distutils.version import LooseVersion, StrictVersion\n",
        "\n",
        "if ( LooseVersion(python_version) < LooseVersion(\"3.0.0\")):\n",
        "    print(\"Python3 is needed!\");\n",
        "    print(\"How to fix: Runtime/Change_runtime_type/Python 3\");\n",
        "    sys.exit()\n",
        "    \n",
        "try:\n",
        "    from dolfin import *; from mshr import *\n",
        "except ImportError as e:\n",
        "    !apt-get install -y -qq software-properties-common python-software-properties module-init-tools\n",
        "    !add-apt-repository -y ppa:fenics-packages/fenics\n",
        "    !apt-get update -qq\n",
        "    !apt install -y --no-install-recommends fenics\n",
        "    from dolfin import *; from mshr import *\n",
        "    \n",
        "import matplotlib.pyplot as plt;\n",
        "from IPython.display import clear_output, display; import time; import dolfin.common.plotting as fenicsplot \n",
        "import time\n",
        "\n",
        "import os, sys, shutil\n",
        "\n",
        "dolfin_version = dolfin.__version__\n",
        "print ('dolfin version:', dolfin_version)\n",
        "\n",
        "!rm -rf * # clean up all files\n",
        "# Useful commands\n",
        "# Remove an empty folder      : os.rmdir(\"my_results\")\n",
        "# Remove a folder with files  : shutil.rmtree(\"results\")\n",
        "# Make a folder               : os.mkdir(\"my_results\")\n",
        "# Runtime/Change_runtime_type/Python3"
      ],
      "execution_count": 2,
      "outputs": [
        {
          "output_type": "stream",
          "text": [
            "dolfin version: 2018.1.0\n"
          ],
          "name": "stdout"
        }
      ]
    },
    {
      "metadata": {
        "id": "aiUvz-WE70WC",
        "colab_type": "text"
      },
      "cell_type": "markdown",
      "source": [
        "# A wave solver"
      ]
    },
    {
      "metadata": {
        "id": "5EBeBahjKjbY",
        "colab_type": "code",
        "outputId": "dd78e753-47fd-4b2b-eadf-8507fe374d40",
        "colab": {
          "base_uri": "https://localhost:8080/",
          "height": 734
        }
      },
      "cell_type": "code",
      "source": [
        "def plot_compact(u, t, stepcounter, QQ, pl, ax): # Compact plot utility function\n",
        "  if stepcounter == 0:\n",
        "    pl, ax = plt.subplots(); display(pl); clear_output(); # Plotting setup\n",
        "  if stepcounter % 5 == 0:\n",
        "    uEuclidnorm = project(sqrt(inner(u, u)), QQ); ax.cla(); fig = plt.gcf(); fig.set_size_inches(16, 4)\n",
        "    plt.subplot(1, 2, 1); pp = plot(uEuclidnorm, cmap=\"coolwarm\"); plt.title(\"Solution at t=%f\" % (t)) # Plot norm of velocity\n",
        "    if t == 0.: plt.axis(G); # plt.colorbar(pp, shrink=0.5); \n",
        "    plt.subplot(1, 2, 2);\n",
        "    if t == 0.: plot(QQ.mesh()); plt.title(\"Mesh\") # Plot mesh\n",
        "    plt.tight_layout(); dpl = display(pl, display_id=\"test\");\n",
        "  \n",
        "  return (pl, ax)\n",
        "\n",
        "solver = KrylovSolver(\"gmres\")\n",
        "solver.parameters[\"relative_tolerance\"] = 5e-6\n",
        "solver.parameters[\"maximum_iterations\"] = 1000\n",
        "solver.parameters[\"monitor_convergence\"] = True\n",
        "\n",
        "# This demo adapts an existing code to solve the wave equation\n",
        "# The orignal code is available at\n",
        "# https://fenicsproject.org/qa/8883/wave-propagation-from-a-source-point/\n",
        "\n",
        "XMIN, XMAX = -1.5, 1.5;\n",
        "YMIN, YMAX = -2.0, 2.0;\n",
        "G = [XMIN, XMAX, YMIN, YMAX];\n",
        "\n",
        "c=5000\n",
        "mesh = RectangleMesh(Point(XMIN, YMIN), Point(XMAX, YMAX),50,50)\n",
        "V=FunctionSpace(mesh, \"Lagrange\", 1)\n",
        "\n",
        "# Time variables\n",
        "k = 0.000004; t = 0; T = 0.001\n",
        "\n",
        "  \n",
        "# Previous and current solution\n",
        "u1= interpolate(Constant(0.0), V)\n",
        "u0= interpolate(Constant(0.0), V)\n",
        "\n",
        "# Variational problem at each time\n",
        "u = TrialFunction(V)\n",
        "v = TestFunction(V)\n",
        "\n",
        "a = u*v*dx + k*k*c*c*inner(grad(u), grad(v))*dx\n",
        "L = 2*u1*v*dx-u0*v*dx\n",
        "\n",
        "A, b = assemble_system(a, L)\n",
        "\n",
        "pl, ax = None, None; \n",
        "stepcounter = 0;\n",
        "u=Function(V);\n",
        "\n",
        "while t <= T:\n",
        "    A, b = assemble_system(a, L, bc)\n",
        "    delta1 = PointSource(V, Point(-1.5, 0.3), sin(c * 10 * t))\n",
        "    delta2 = PointSource(V, Point(-1.5, -0.3), sin(c * 10 * t))\n",
        "    delta1.apply(b)\n",
        "    delta2.apply(b)\n",
        "    solver.solve(A, u.vector(), b)\n",
        "    u0.assign(u1)\n",
        "    u1.assign(u)\n",
        "    pl, ax=plot_compact(u1, t, stepcounter, V, pl, ax)\n",
        "    stepcounter += 1;\n",
        "    t += dt"
      ],
      "execution_count": 0,
      "outputs": [
        {
          "output_type": "display_data",
          "data": {
            "image/png": "[encoded data removed]",
            "text/plain": [
              "<Figure size 1152x288 with 2 Axes>"
            ]
          },
          "metadata": {
            "tags": []
          }
        },
        {
          "output_type": "stream",
          "text": [
            "/usr/local/lib/python3.6/dist-packages/matplotlib/figure.py:98: MatplotlibDeprecationWarning: \n",
            "Adding an axes using the same arguments as a previous axes currently reuses the earlier instance.  In a future version, a new instance will always be created and returned.  Meanwhile, this warning can be suppressed, and the future behavior ensured, by passing a unique label to each axes instance.\n",
            "  \"Adding an axes using the same arguments as a previous axes \"\n"
          ],
          "name": "stderr"
        }
      ]
    }
  ]
}